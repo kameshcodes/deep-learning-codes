{
  "nbformat": 4,
  "nbformat_minor": 0,
  "metadata": {
    "colab": {
      "provenance": [],
      "authorship_tag": "ABX9TyObRDN+1bNUU4Jmvdy30hMr",
      "include_colab_link": true
    },
    "kernelspec": {
      "name": "python3",
      "display_name": "Python 3"
    },
    "language_info": {
      "name": "python"
    }
  },
  "cells": [
    {
      "cell_type": "markdown",
      "metadata": {
        "id": "view-in-github",
        "colab_type": "text"
      },
      "source": [
        "<a href=\"https://colab.research.google.com/github/kameshcodes/deep-learning-codes/blob/main/Dataloader_3.ipynb\" target=\"_parent\"><img src=\"https://colab.research.google.com/assets/colab-badge.svg\" alt=\"Open In Colab\"/></a>"
      ]
    },
    {
      "cell_type": "code",
      "execution_count": 6,
      "metadata": {
        "colab": {
          "base_uri": "https://localhost:8080/"
        },
        "id": "_KLB8mcbE3Mi",
        "outputId": "fc6b0c0e-d209-45d0-fa96-88e5ed0cd292"
      },
      "outputs": [
        {
          "output_type": "execute_result",
          "data": {
            "text/plain": [
              "array([[1.000e+00, 1.423e+01, 1.710e+00, ..., 1.040e+00, 3.920e+00,\n",
              "        1.065e+03],\n",
              "       [1.000e+00, 1.320e+01, 1.780e+00, ..., 1.050e+00, 3.400e+00,\n",
              "        1.050e+03],\n",
              "       [1.000e+00, 1.316e+01, 2.360e+00, ..., 1.030e+00, 3.170e+00,\n",
              "        1.185e+03],\n",
              "       ...,\n",
              "       [3.000e+00, 1.327e+01, 4.280e+00, ..., 5.900e-01, 1.560e+00,\n",
              "        8.350e+02],\n",
              "       [3.000e+00, 1.317e+01, 2.590e+00, ..., 6.000e-01, 1.620e+00,\n",
              "        8.400e+02],\n",
              "       [3.000e+00, 1.413e+01, 4.100e+00, ..., 6.100e-01, 1.600e+00,\n",
              "        5.600e+02]])"
            ]
          },
          "metadata": {},
          "execution_count": 6
        }
      ],
      "source": [
        "import numpy as np\n",
        "\n",
        "data = np.loadtxt(\"https://gist.githubusercontent.com/tijptjik/9408623/raw/b237fa5848349a14a14e5d4107dc7897c21951f5/wine.csv\", delimiter=\",\", skiprows=1)\n",
        "data"
      ]
    },
    {
      "cell_type": "markdown",
      "source": [
        "- Using the entire dataset for gradient calculation and model optimization in every epoch is highly time-consuming.\n",
        "\n",
        "- If dataset is large, it is more efficient to divide the samples into so called smaller batches and optimize our model using these small batches rather than using entire data.\n",
        "\n",
        "\n",
        "$\\text{Let's define some terms:}$\n",
        "\n",
        "- **epochs:**  1 forward and backward pass of ALL training samples.\n",
        "- **batch_size:** number of training samples in one forward and backward pass\n",
        "- **number of iteration:** number of passes, each pass using [batch_size] number of samples\n",
        "\n",
        "<br>\n",
        "$\\textbf{100 Samples, batch_size=200}\\rightarrow\\text{100/5 = 5 iteration for 1 epoch}$\n",
        "\n"
      ],
      "metadata": {
        "id": "l9qSqXBsGOJI"
      }
    },
    {
      "cell_type": "code",
      "source": [
        "import torch\n",
        "import torchvision\n",
        "from torch.utils.data import Dataset, DataLoader\n",
        "import numpy as np\n",
        "import math"
      ],
      "metadata": {
        "id": "AaI3GT1IFHlh"
      },
      "execution_count": 7,
      "outputs": []
    },
    {
      "cell_type": "markdown",
      "source": [],
      "metadata": {
        "id": "IHapZPoJOY3m"
      }
    },
    {
      "cell_type": "code",
      "source": [
        "class WineDataset(Dataset):\n",
        "\n",
        "  def __init__(self):\n",
        "    xy = np.loadtxt(\"https://gist.githubusercontent.com/tijptjik/9408623/raw/b237fa5848349a14a14e5d4107dc7897c21951f5/wine.csv\", dtype=np.float32, delimiter=\",\", skiprows=1)\n",
        "    self.x = torch.from_numpy(xy[:, 1:])\n",
        "    self.y = torch.from_numpy(xy[:, 0])\n",
        "    self.n_samples = xy.shape[0]\n",
        "\n",
        "  def __getitem__(self, index):\n",
        "    return self.x[index], self.y[index]\n",
        "\n",
        "  def __len__(self):\n",
        "    return self.n_samples\n"
      ],
      "metadata": {
        "id": "MFx1zM6pOYY7"
      },
      "execution_count": 38,
      "outputs": []
    },
    {
      "cell_type": "code",
      "source": [
        "dataset = WineDataset()"
      ],
      "metadata": {
        "id": "Y_o1p9LdOWKf"
      },
      "execution_count": 39,
      "outputs": []
    },
    {
      "cell_type": "code",
      "source": [
        "first_sample = dataset[0]\n",
        "features, labels = first_sample\n",
        "print(features, labels)"
      ],
      "metadata": {
        "colab": {
          "base_uri": "https://localhost:8080/"
        },
        "id": "iM4moLknP1bD",
        "outputId": "d36b44f0-75e2-4de7-d078-c9db3ab42e04"
      },
      "execution_count": 28,
      "outputs": [
        {
          "output_type": "stream",
          "name": "stdout",
          "text": [
            "tensor([1.4230e+01, 1.7100e+00, 2.4300e+00, 1.5600e+01, 1.2700e+02, 2.8000e+00,\n",
            "        3.0600e+00, 2.8000e-01, 2.2900e+00, 5.6400e+00, 1.0400e+00, 3.9200e+00,\n",
            "        1.0650e+03]) tensor(1.)\n"
          ]
        }
      ]
    },
    {
      "cell_type": "code",
      "source": [
        "dataloader = DataLoader(dataset= dataset, batch_size=4, shuffle=True, num_workers=2)"
      ],
      "metadata": {
        "id": "Ct8GgrD2QRjo"
      },
      "execution_count": 59,
      "outputs": []
    },
    {
      "cell_type": "code",
      "source": [
        "dataiter = iter(dataloader)\n",
        "data = dataiter.__next__()\n",
        "features, labels = data\n",
        "print(features, labels)"
      ],
      "metadata": {
        "colab": {
          "base_uri": "https://localhost:8080/"
        },
        "id": "7nkNtSokRSec",
        "outputId": "c095b129-1656-4360-c9de-e282f3431997"
      },
      "execution_count": 60,
      "outputs": [
        {
          "output_type": "stream",
          "name": "stdout",
          "text": [
            "tensor([[1.3480e+01, 1.8100e+00, 2.4100e+00, 2.0500e+01, 1.0000e+02, 2.7000e+00,\n",
            "         2.9800e+00, 2.6000e-01, 1.8600e+00, 5.1000e+00, 1.0400e+00, 3.4700e+00,\n",
            "         9.2000e+02],\n",
            "        [1.4230e+01, 1.7100e+00, 2.4300e+00, 1.5600e+01, 1.2700e+02, 2.8000e+00,\n",
            "         3.0600e+00, 2.8000e-01, 2.2900e+00, 5.6400e+00, 1.0400e+00, 3.9200e+00,\n",
            "         1.0650e+03],\n",
            "        [1.3240e+01, 3.9800e+00, 2.2900e+00, 1.7500e+01, 1.0300e+02, 2.6400e+00,\n",
            "         2.6300e+00, 3.2000e-01, 1.6600e+00, 4.3600e+00, 8.2000e-01, 3.0000e+00,\n",
            "         6.8000e+02],\n",
            "        [1.2430e+01, 1.5300e+00, 2.2900e+00, 2.1500e+01, 8.6000e+01, 2.7400e+00,\n",
            "         3.1500e+00, 3.9000e-01, 1.7700e+00, 3.9400e+00, 6.9000e-01, 2.8400e+00,\n",
            "         3.5200e+02]]) tensor([1., 1., 1., 2.])\n"
          ]
        }
      ]
    },
    {
      "cell_type": "code",
      "source": [
        "num_epochs = 2\n",
        "total_samples = len(dataset)\n",
        "batch_size = 4\n",
        "n_iterations = math.ceil(total_samples/batch_size)\n",
        "print(total_samples, n_iterations)"
      ],
      "metadata": {
        "colab": {
          "base_uri": "https://localhost:8080/"
        },
        "id": "QC1kAnqHSnRp",
        "outputId": "185ecfa6-6b7b-4499-d21d-d6cb4b37b1fb"
      },
      "execution_count": 62,
      "outputs": [
        {
          "output_type": "stream",
          "name": "stdout",
          "text": [
            "178 45\n"
          ]
        }
      ]
    },
    {
      "cell_type": "code",
      "source": [
        "for epoch in range(num_epochs):\n",
        "  for i, (inputs, labels) in enumerate(dataloader):\n",
        "    if (i+1)%5==0:\n",
        "      print(f\"epoch {epoch+1}/{num_epochs}, step={i+1}/{n_iterations}, inputs = {inputs.shape}\")"
      ],
      "metadata": {
        "colab": {
          "base_uri": "https://localhost:8080/"
        },
        "id": "VeEu2VYUSu6R",
        "outputId": "2e126b1d-8a3c-403a-fcda-b789e31c9741"
      },
      "execution_count": 66,
      "outputs": [
        {
          "output_type": "stream",
          "name": "stdout",
          "text": [
            "epoch 1/2, step=5/45, inputs = torch.Size([4, 13])\n",
            "epoch 1/2, step=10/45, inputs = torch.Size([4, 13])\n",
            "epoch 1/2, step=15/45, inputs = torch.Size([4, 13])\n",
            "epoch 1/2, step=20/45, inputs = torch.Size([4, 13])\n",
            "epoch 1/2, step=25/45, inputs = torch.Size([4, 13])\n",
            "epoch 1/2, step=30/45, inputs = torch.Size([4, 13])\n",
            "epoch 1/2, step=35/45, inputs = torch.Size([4, 13])\n",
            "epoch 1/2, step=40/45, inputs = torch.Size([4, 13])\n",
            "epoch 1/2, step=45/45, inputs = torch.Size([2, 13])\n",
            "epoch 2/2, step=5/45, inputs = torch.Size([4, 13])\n",
            "epoch 2/2, step=10/45, inputs = torch.Size([4, 13])\n",
            "epoch 2/2, step=15/45, inputs = torch.Size([4, 13])\n",
            "epoch 2/2, step=20/45, inputs = torch.Size([4, 13])\n",
            "epoch 2/2, step=25/45, inputs = torch.Size([4, 13])\n",
            "epoch 2/2, step=30/45, inputs = torch.Size([4, 13])\n",
            "epoch 2/2, step=35/45, inputs = torch.Size([4, 13])\n",
            "epoch 2/2, step=40/45, inputs = torch.Size([4, 13])\n",
            "epoch 2/2, step=45/45, inputs = torch.Size([2, 13])\n"
          ]
        }
      ]
    }
  ]
}