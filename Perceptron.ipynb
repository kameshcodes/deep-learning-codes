{
  "nbformat": 4,
  "nbformat_minor": 0,
  "metadata": {
    "colab": {
      "provenance": [],
      "authorship_tag": "ABX9TyOajPcJ+FRq878qjTrJvbWz",
      "include_colab_link": true
    },
    "kernelspec": {
      "name": "python3",
      "display_name": "Python 3"
    },
    "language_info": {
      "name": "python"
    }
  },
  "cells": [
    {
      "cell_type": "markdown",
      "metadata": {
        "id": "view-in-github",
        "colab_type": "text"
      },
      "source": [
        "<a href=\"https://colab.research.google.com/github/kameshcodes/deep-learning-codes/blob/main/Perceptron.ipynb\" target=\"_parent\"><img src=\"https://colab.research.google.com/assets/colab-badge.svg\" alt=\"Open In Colab\"/></a>"
      ]
    },
    {
      "cell_type": "code",
      "execution_count": 4,
      "metadata": {
        "colab": {
          "base_uri": "https://localhost:8080/"
        },
        "id": "OufGedUw_2jn",
        "outputId": "94821eb0-8349-40d9-db19-e408064dee76"
      },
      "outputs": [
        {
          "output_type": "stream",
          "name": "stdout",
          "text": [
            "[0. 0. 0.]\n",
            "Epoch 1/8\n",
            "Sample 1, True label: 1, Predicted: 0.0, Weights: [1. 1. 1.]\n",
            "Sample 2, True label: 1, Predicted: 1.0, Weights: [1. 1. 1.]\n",
            "Sample 3, True label: -1, Predicted: -1.0, Weights: [1. 1. 1.]\n",
            "Sample 4, True label: -1, Predicted: -1.0, Weights: [1. 1. 1.]\n",
            "Total errors in epoch 1: 1\n",
            "\n",
            "Epoch 2/8\n",
            "Sample 1, True label: 1, Predicted: 1.0, Weights: [1. 1. 1.]\n",
            "Sample 2, True label: 1, Predicted: 1.0, Weights: [1. 1. 1.]\n",
            "Sample 3, True label: -1, Predicted: -1.0, Weights: [1. 1. 1.]\n",
            "Sample 4, True label: -1, Predicted: -1.0, Weights: [1. 1. 1.]\n",
            "Total errors in epoch 2: 0\n",
            "\n",
            "Epoch 3/8\n",
            "Sample 1, True label: 1, Predicted: 1.0, Weights: [1. 1. 1.]\n",
            "Sample 2, True label: 1, Predicted: 1.0, Weights: [1. 1. 1.]\n",
            "Sample 3, True label: -1, Predicted: -1.0, Weights: [1. 1. 1.]\n",
            "Sample 4, True label: -1, Predicted: -1.0, Weights: [1. 1. 1.]\n",
            "Total errors in epoch 3: 0\n",
            "\n",
            "Epoch 4/8\n",
            "Sample 1, True label: 1, Predicted: 1.0, Weights: [1. 1. 1.]\n",
            "Sample 2, True label: 1, Predicted: 1.0, Weights: [1. 1. 1.]\n",
            "Sample 3, True label: -1, Predicted: -1.0, Weights: [1. 1. 1.]\n",
            "Sample 4, True label: -1, Predicted: -1.0, Weights: [1. 1. 1.]\n",
            "Total errors in epoch 4: 0\n",
            "\n",
            "Epoch 5/8\n",
            "Sample 1, True label: 1, Predicted: 1.0, Weights: [1. 1. 1.]\n",
            "Sample 2, True label: 1, Predicted: 1.0, Weights: [1. 1. 1.]\n",
            "Sample 3, True label: -1, Predicted: -1.0, Weights: [1. 1. 1.]\n",
            "Sample 4, True label: -1, Predicted: -1.0, Weights: [1. 1. 1.]\n",
            "Total errors in epoch 5: 0\n",
            "\n",
            "Epoch 6/8\n",
            "Sample 1, True label: 1, Predicted: 1.0, Weights: [1. 1. 1.]\n",
            "Sample 2, True label: 1, Predicted: 1.0, Weights: [1. 1. 1.]\n",
            "Sample 3, True label: -1, Predicted: -1.0, Weights: [1. 1. 1.]\n",
            "Sample 4, True label: -1, Predicted: -1.0, Weights: [1. 1. 1.]\n",
            "Total errors in epoch 6: 0\n",
            "\n",
            "Epoch 7/8\n",
            "Sample 1, True label: 1, Predicted: 1.0, Weights: [1. 1. 1.]\n",
            "Sample 2, True label: 1, Predicted: 1.0, Weights: [1. 1. 1.]\n",
            "Sample 3, True label: -1, Predicted: -1.0, Weights: [1. 1. 1.]\n",
            "Sample 4, True label: -1, Predicted: -1.0, Weights: [1. 1. 1.]\n",
            "Total errors in epoch 7: 0\n",
            "\n",
            "Epoch 8/8\n",
            "Sample 1, True label: 1, Predicted: 1.0, Weights: [1. 1. 1.]\n",
            "Sample 2, True label: 1, Predicted: 1.0, Weights: [1. 1. 1.]\n",
            "Sample 3, True label: -1, Predicted: -1.0, Weights: [1. 1. 1.]\n",
            "Sample 4, True label: -1, Predicted: -1.0, Weights: [1. 1. 1.]\n",
            "Total errors in epoch 8: 0\n",
            "\n",
            "Final weights: [1. 1. 1.]\n"
          ]
        }
      ],
      "source": [
        "import numpy as np\n",
        "\n",
        "def perceptron(x, w):\n",
        "    \"\"\"Perceptron prediction: y_hat = sign(w^T x)\"\"\"\n",
        "    return np.sign(np.dot(w, x))\n",
        "\n",
        "def perceptron_training(X, y, w, num_epochs=10):\n",
        "    n_samples, n_features = X.shape\n",
        "    X_bias = np.hstack((X, np.ones((n_samples, 1))))\n",
        "    num_epochs = 2*n_samples\n",
        "    for epoch in range(num_epochs):\n",
        "        print(f\"Epoch {epoch + 1}/{num_epochs}\")\n",
        "        errors = 0\n",
        "        for t in range(n_samples):\n",
        "            x_t = X_bias[t]\n",
        "            y_t = y[t]\n",
        "\n",
        "            y_hat = perceptron(x_t, w)\n",
        "\n",
        "            if y_hat != y_t:\n",
        "                w = w + y_t * x_t\n",
        "                errors += 1\n",
        "\n",
        "            print(f\"Sample {t + 1}, True label: {y_t}, Predicted: {y_hat}, Weights: {w}\")\n",
        "\n",
        "        # Print epoch summary\n",
        "        print(f\"Total errors in epoch {epoch + 1}: {errors}\\n\")\n",
        "\n",
        "    return w\n",
        "\n",
        "# Example usage\n",
        "if __name__ == \"__main__\":\n",
        "    # Sample data: 4 samples, 2 features\n",
        "    X = np.array([[1, 1], [2, 2], [-1, -1], [-2, -2]])\n",
        "    y = np.array([1, 1, -1, -1])  # Labels\n",
        "    w = np.zeros(X.shape[1] + 1)\n",
        "    print(w)\n",
        "    # Train perceptron\n",
        "    final_weights = perceptron_training(X, y, w)\n",
        "\n",
        "    print(\"Final weights:\", final_weights)"
      ]
    }
  ]
}