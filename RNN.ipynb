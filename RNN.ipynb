{
  "nbformat": 4,
  "nbformat_minor": 0,
  "metadata": {
    "colab": {
      "provenance": [],
      "toc_visible": true,
      "authorship_tag": "ABX9TyMWyCdPDJtu+pHvJ8O8jKXa",
      "include_colab_link": true
    },
    "kernelspec": {
      "name": "python3",
      "display_name": "Python 3"
    },
    "language_info": {
      "name": "python"
    }
  },
  "cells": [
    {
      "cell_type": "markdown",
      "metadata": {
        "id": "view-in-github",
        "colab_type": "text"
      },
      "source": [
        "<a href=\"https://colab.research.google.com/github/kameshcodes/deep-learning-codes/blob/main/RNN.ipynb\" target=\"_parent\"><img src=\"https://colab.research.google.com/assets/colab-badge.svg\" alt=\"Open In Colab\"/></a>"
      ]
    },
    {
      "cell_type": "code",
      "source": [
        "from google.colab import drive\n",
        "drive.mount('/content/drive')"
      ],
      "metadata": {
        "colab": {
          "base_uri": "https://localhost:8080/"
        },
        "id": "688e8m8wKhgw",
        "outputId": "a38b769e-33a0-40bf-8a30-e17f71219b20"
      },
      "execution_count": null,
      "outputs": [
        {
          "output_type": "stream",
          "name": "stdout",
          "text": [
            "Mounted at /content/drive\n"
          ]
        }
      ]
    },
    {
      "cell_type": "markdown",
      "source": [
        "$$\\textbf{Name Classification: RNN}$$\n",
        "\n",
        "---\n",
        "\n",
        "A character-level RNN reads words as a series of characters - outputting a $prediction$ and $hidden$ $state$ at each step, feeding its previous hidden state into each next step. We take the final prediction to be the output, i.e. which class the word belongs to."
      ],
      "metadata": {
        "id": "_r-pBj87Ignc"
      }
    },
    {
      "cell_type": "code",
      "source": [
        "import glob\n",
        "\n",
        "def findFiles(path):\n",
        "  return glob.glob(path)\n",
        "\n",
        "path = \"/content/drive/MyDrive/rnn-data/\"\n",
        "txt_path = path + \"names/*txt\"\n",
        "print(findFiles(txt_path))"
      ],
      "metadata": {
        "colab": {
          "base_uri": "https://localhost:8080/"
        },
        "id": "qiFApbpoIqWi",
        "outputId": "ac117014-2c02-430d-f4b0-6636c824a396"
      },
      "execution_count": 15,
      "outputs": [
        {
          "output_type": "stream",
          "name": "stdout",
          "text": [
            "['/content/drive/MyDrive/rnn-data/names/Chinese.txt', '/content/drive/MyDrive/rnn-data/names/Dutch.txt', '/content/drive/MyDrive/rnn-data/names/Arabic.txt', '/content/drive/MyDrive/rnn-data/names/English.txt', '/content/drive/MyDrive/rnn-data/names/Czech.txt', '/content/drive/MyDrive/rnn-data/names/French.txt', '/content/drive/MyDrive/rnn-data/names/Italian.txt', '/content/drive/MyDrive/rnn-data/names/German.txt', '/content/drive/MyDrive/rnn-data/names/Irish.txt', '/content/drive/MyDrive/rnn-data/names/Japanese.txt', '/content/drive/MyDrive/rnn-data/names/Greek.txt', '/content/drive/MyDrive/rnn-data/names/Spanish.txt', '/content/drive/MyDrive/rnn-data/names/Scottish.txt', '/content/drive/MyDrive/rnn-data/names/Portuguese.txt', '/content/drive/MyDrive/rnn-data/names/Vietnamese.txt', '/content/drive/MyDrive/rnn-data/names/Russian.txt', '/content/drive/MyDrive/rnn-data/names/Polish.txt', '/content/drive/MyDrive/rnn-data/names/Korean.txt']\n"
          ]
        }
      ]
    },
    {
      "cell_type": "code",
      "source": [
        "import unicodedata\n",
        "import string\n",
        "\n",
        "all_letters = string.ascii_letters + \" .,;'\"\n",
        "n_letters = len(all_letters)\n",
        "print(n_letters)\n",
        "\n",
        "def unicodeToAscii(s):\n",
        "  return ''.join(\n",
        "      c for c in unicodedata.normalize('NFD', s)\n",
        "      if unicodedata.category(c) != 'Mn'\n",
        "      and c in all_letters\n",
        "  )\n",
        "\n",
        "print(unicodeToAscii('Ślusàrski'))\n",
        "print(unicodeToAscii('Kamesh'))"
      ],
      "metadata": {
        "colab": {
          "base_uri": "https://localhost:8080/"
        },
        "id": "YQNuCpsbLdmu",
        "outputId": "b2563a25-e5eb-40fc-cb5f-754bedc86ef9"
      },
      "execution_count": 65,
      "outputs": [
        {
          "output_type": "stream",
          "name": "stdout",
          "text": [
            "57\n",
            "Slusarski\n",
            "Kamesh\n"
          ]
        }
      ]
    },
    {
      "cell_type": "code",
      "source": [
        "from io import open\n",
        "\n",
        "category_lines = {}\n",
        "all_categories = []\n",
        "\n",
        "def readLines(filename):\n",
        "  lines = open(filename, encoding='utf-8').read().strip().split('\\n')\n",
        "  return [unicodeToAscii(line) for line in lines]\n",
        "\n",
        "for filename in findFiles(txt_path):\n",
        "  category = filename.split('/')[-1].split('.')[0]\n",
        "  all_categories.append(category)\n",
        "  lines = readLines(filename)\n",
        "  category_lines[category] = lines\n",
        "\n",
        "n_categories = len(all_categories)\n",
        "\n",
        "print(n_categories)\n",
        "print(category_lines['Dutch'][:5])"
      ],
      "metadata": {
        "colab": {
          "base_uri": "https://localhost:8080/"
        },
        "id": "ufLgvTdGSezW",
        "outputId": "07bd1f7b-91bb-4e3b-e209-18d765097549"
      },
      "execution_count": null,
      "outputs": [
        {
          "output_type": "stream",
          "name": "stdout",
          "text": [
            "18\n",
            "['Aalsburg', 'Aalst', 'Aarle', 'Achteren', 'Achthoven']\n"
          ]
        }
      ]
    },
    {
      "cell_type": "code",
      "source": [
        "category_lines['Arabic'][:5]"
      ],
      "metadata": {
        "colab": {
          "base_uri": "https://localhost:8080/"
        },
        "id": "x3k4cM51iVua",
        "outputId": "29e3ae94-2a45-4cfb-cef4-7c3a44b1a842"
      },
      "execution_count": null,
      "outputs": [
        {
          "output_type": "execute_result",
          "data": {
            "text/plain": [
              "['Khoury', 'Nahas', 'Daher', 'Gerges', 'Nazari']"
            ]
          },
          "metadata": {},
          "execution_count": 5
        }
      ]
    },
    {
      "cell_type": "markdown",
      "source": [
        "# Names -> Tensors"
      ],
      "metadata": {
        "id": "0T9wXfvhuLgV"
      }
    },
    {
      "cell_type": "code",
      "source": [
        "def letterToIndex(letter):\n",
        "  return all_letters.find(letter)"
      ],
      "metadata": {
        "id": "6RnIMvwLuLCu"
      },
      "execution_count": null,
      "outputs": []
    },
    {
      "cell_type": "code",
      "source": [
        "import torch\n",
        "\n",
        "def letterToTensor(letter):\n",
        "  tensor = torch.zeros(1, n_letters)\n",
        "  tensor[0][letterToIndex(letter)] = 1\n",
        "  return tensor"
      ],
      "metadata": {
        "id": "IeLXwNHkq9D6"
      },
      "execution_count": null,
      "outputs": []
    },
    {
      "cell_type": "code",
      "source": [
        "def lineToTensor(line):\n",
        "  tensor = torch.zeros(len(line), 1, n_letters)\n",
        "  for li, letter in enumerate(line):\n",
        "    tensor[li][0][letterToIndex(letter)] = 1\n",
        "  return tensor"
      ],
      "metadata": {
        "id": "Y1POMlc-v04K"
      },
      "execution_count": 37,
      "outputs": []
    },
    {
      "cell_type": "code",
      "source": [
        "lineToTensor('Kamesh')"
      ],
      "metadata": {
        "colab": {
          "base_uri": "https://localhost:8080/"
        },
        "id": "N95G-q0n5XYh",
        "outputId": "3d299538-57d4-486b-83cc-32825f3dbff6"
      },
      "execution_count": 38,
      "outputs": [
        {
          "output_type": "execute_result",
          "data": {
            "text/plain": [
              "tensor([[[0., 0., 0., 0., 0., 0., 0., 0., 0., 0., 0., 0., 0., 0., 0., 0., 0.,\n",
              "          0., 0., 0., 0., 0., 0., 0., 0., 0., 0., 0., 0., 0., 0., 0., 0., 0.,\n",
              "          0., 0., 1., 0., 0., 0., 0., 0., 0., 0., 0., 0., 0., 0., 0., 0., 0.,\n",
              "          0., 0., 0., 0., 0., 0.]],\n",
              "\n",
              "        [[1., 0., 0., 0., 0., 0., 0., 0., 0., 0., 0., 0., 0., 0., 0., 0., 0.,\n",
              "          0., 0., 0., 0., 0., 0., 0., 0., 0., 0., 0., 0., 0., 0., 0., 0., 0.,\n",
              "          0., 0., 0., 0., 0., 0., 0., 0., 0., 0., 0., 0., 0., 0., 0., 0., 0.,\n",
              "          0., 0., 0., 0., 0., 0.]],\n",
              "\n",
              "        [[0., 0., 0., 0., 0., 0., 0., 0., 0., 0., 0., 0., 1., 0., 0., 0., 0.,\n",
              "          0., 0., 0., 0., 0., 0., 0., 0., 0., 0., 0., 0., 0., 0., 0., 0., 0.,\n",
              "          0., 0., 0., 0., 0., 0., 0., 0., 0., 0., 0., 0., 0., 0., 0., 0., 0.,\n",
              "          0., 0., 0., 0., 0., 0.]],\n",
              "\n",
              "        [[0., 0., 0., 0., 1., 0., 0., 0., 0., 0., 0., 0., 0., 0., 0., 0., 0.,\n",
              "          0., 0., 0., 0., 0., 0., 0., 0., 0., 0., 0., 0., 0., 0., 0., 0., 0.,\n",
              "          0., 0., 0., 0., 0., 0., 0., 0., 0., 0., 0., 0., 0., 0., 0., 0., 0.,\n",
              "          0., 0., 0., 0., 0., 0.]],\n",
              "\n",
              "        [[0., 0., 0., 0., 0., 0., 0., 0., 0., 0., 0., 0., 0., 0., 0., 0., 0.,\n",
              "          0., 1., 0., 0., 0., 0., 0., 0., 0., 0., 0., 0., 0., 0., 0., 0., 0.,\n",
              "          0., 0., 0., 0., 0., 0., 0., 0., 0., 0., 0., 0., 0., 0., 0., 0., 0.,\n",
              "          0., 0., 0., 0., 0., 0.]],\n",
              "\n",
              "        [[0., 0., 0., 0., 0., 0., 0., 1., 0., 0., 0., 0., 0., 0., 0., 0., 0.,\n",
              "          0., 0., 0., 0., 0., 0., 0., 0., 0., 0., 0., 0., 0., 0., 0., 0., 0.,\n",
              "          0., 0., 0., 0., 0., 0., 0., 0., 0., 0., 0., 0., 0., 0., 0., 0., 0.,\n",
              "          0., 0., 0., 0., 0., 0.]]])"
            ]
          },
          "metadata": {},
          "execution_count": 38
        }
      ]
    },
    {
      "cell_type": "markdown",
      "source": [
        "# RNN Class"
      ],
      "metadata": {
        "id": "JB28w4-fb4r0"
      }
    },
    {
      "cell_type": "code",
      "source": [
        "import torch.nn as nn\n",
        "import torch.nn.functional as F\n",
        "\n",
        "class RNN(nn.Module):\n",
        "  def __init__(self, input_size, hidden_size, output_size):\n",
        "    super(RNN, self).__init__()\n",
        "\n",
        "    self.hidden_size = hidden_size\n",
        "    self.i2h = nn.Linear(input_size, hidden_size)\n",
        "    self.h2h = nn.Linear(hidden_size, hidden_size)\n",
        "    self.h2o = nn.Linear(hidden_size, output_size)\n",
        "    self.softmax = nn.LogSoftmax(dim=1)\n",
        "\n",
        "  def forward(self, input, hidden):\n",
        "    hidden = F.tanh(self.i2h(input)+self.h2h(hidden))\n",
        "    output = self.h2o(hidden)\n",
        "    output = self.softmax(output)\n",
        "    return output, hidden\n",
        "\n",
        "  def initHidden(self):\n",
        "    return torch.zeros(1, self.hidden_size)\n",
        "\n",
        "n_hidden = 128\n",
        "rnn = RNN(n_letters, n_hidden, n_categories)"
      ],
      "metadata": {
        "id": "vopBCSnRi92i"
      },
      "execution_count": 19,
      "outputs": []
    },
    {
      "cell_type": "code",
      "source": [
        "input = letterToTensor('A')\n",
        "hidden = torch.zeros(1, n_hidden)\n",
        "\n",
        "output, next_hidden = rnn(input, hidden)\n",
        "print(next_hidden)\n",
        "print(output)"
      ],
      "metadata": {
        "colab": {
          "base_uri": "https://localhost:8080/"
        },
        "id": "ApJTUTztDUm2",
        "outputId": "b17e77a1-8bdf-4860-8672-a9d26f89504d"
      },
      "execution_count": 62,
      "outputs": [
        {
          "output_type": "stream",
          "name": "stdout",
          "text": [
            "tensor([[-0.2661,  0.3001, -0.2272, -0.2451,  0.1159,  0.0854, -0.1009,  0.3022,\n",
            "         -0.1759, -0.2956, -0.3299,  0.0420, -0.2040,  0.1345,  0.3496, -0.0114,\n",
            "         -0.3252,  0.1473,  0.2629,  0.1881, -0.0329, -0.1377, -0.2695,  0.0715,\n",
            "         -0.1510, -0.1712,  0.4469, -0.2007, -0.2881, -0.0532, -0.0649,  0.0170,\n",
            "         -0.1599, -0.2390,  0.0620,  0.0361, -0.1199, -0.1336,  0.1227, -0.0318,\n",
            "          0.3181,  0.0855,  0.2932,  0.2236,  0.0108,  0.2025, -0.0137, -0.0147,\n",
            "         -0.3049, -0.1831,  0.0492, -0.4310,  0.2031, -0.3192,  0.3875, -0.0946,\n",
            "          0.0912, -0.1629,  0.1177,  0.0817, -0.2130,  0.1855,  0.0316,  0.2244,\n",
            "          0.1098,  0.3017, -0.0926,  0.1857,  0.0810,  0.2218,  0.3995, -0.0469,\n",
            "         -0.0163,  0.4042,  0.2096,  0.0180, -0.2977,  0.1595,  0.0641, -0.0807,\n",
            "         -0.1579,  0.0303, -0.2117,  0.2615,  0.1959, -0.1404, -0.1746,  0.2829,\n",
            "         -0.1971,  0.1294, -0.3676,  0.2111,  0.1793,  0.1258, -0.1800, -0.0016,\n",
            "         -0.1871, -0.0610, -0.3274, -0.2113, -0.1841,  0.0532, -0.0648,  0.0908,\n",
            "         -0.0151,  0.2595, -0.1084,  0.0153, -0.0784,  0.1569, -0.2809, -0.0329,\n",
            "          0.0600, -0.0968,  0.1543, -0.0524, -0.1232, -0.3220,  0.2655,  0.2856,\n",
            "         -0.0299,  0.3014,  0.1945, -0.2846, -0.2384,  0.0089,  0.2651,  0.0284]],\n",
            "       grad_fn=<TanhBackward0>)\n",
            "tensor([[-2.9347, -2.8101, -3.9346, -2.0224, -2.5961, -3.2136, -3.0588, -3.6143,\n",
            "         -3.0144, -2.0104, -2.5033, -3.0804, -3.8309, -3.8462, -2.6985, -2.7532,\n",
            "         -4.6911, -2.9547]], grad_fn=<LogSoftmaxBackward0>)\n"
          ]
        }
      ]
    },
    {
      "cell_type": "code",
      "source": [
        "!pip install torchviz -q"
      ],
      "metadata": {
        "colab": {
          "base_uri": "https://localhost:8080/"
        },
        "id": "v7_lRtwGkdiU",
        "outputId": "3ced39b6-8086-4f37-9d75-b89c421a53d5"
      },
      "execution_count": null,
      "outputs": [
        {
          "output_type": "stream",
          "name": "stdout",
          "text": [
            "  Preparing metadata (setup.py) ... \u001b[?25l\u001b[?25hdone\n",
            "\u001b[2K     \u001b[90m━━━━━━━━━━━━━━━━━━━━━━━━━━━━━━━━━━━━━━━━\u001b[0m \u001b[32m21.3/21.3 MB\u001b[0m \u001b[31m48.3 MB/s\u001b[0m eta \u001b[36m0:00:00\u001b[0m\n",
            "\u001b[?25h  Building wheel for torchviz (setup.py) ... \u001b[?25l\u001b[?25hdone\n"
          ]
        }
      ]
    },
    {
      "cell_type": "code",
      "source": [
        "from torch.autograd import Variable\n",
        "from torchviz import make_dot\n",
        "\n",
        "\n",
        "input_size = 57\n",
        "hidden_size = 128\n",
        "output_size = 18\n",
        "n_letters = input_size\n",
        "n_categories = output_size\n",
        "\n",
        "input_tensor = torch.randn(1, input_size)\n",
        "hidden_tensor = torch.zeros(1, hidden_size)\n",
        "\n",
        "\n",
        "output, next_hidden = rnn(input_tensor, hidden_tensor)\n",
        "\n",
        "\n",
        "graph = make_dot((output, next_hidden), params=dict(rnn.named_parameters()))\n",
        "\n",
        "display(graph)"
      ],
      "metadata": {
        "colab": {
          "base_uri": "https://localhost:8080/",
          "height": 735
        },
        "id": "PIYYnUf8kG9M",
        "outputId": "0ba3d9db-a259-4926-be49-43ef79a0e624"
      },
      "execution_count": 17,
      "outputs": [
        {
          "output_type": "display_data",
          "data": {
            "image/svg+xml": "<?xml version=\"1.0\" encoding=\"UTF-8\" standalone=\"no\"?>\n<!DOCTYPE svg PUBLIC \"-//W3C//DTD SVG 1.1//EN\"\n \"http://www.w3.org/Graphics/SVG/1.1/DTD/svg11.dtd\">\n<!-- Generated by graphviz version 2.43.0 (0)\n -->\n<!-- Title: %3 Pages: 1 -->\n<svg width=\"546pt\" height=\"535pt\"\n viewBox=\"0.00 0.00 546.00 535.00\" xmlns=\"http://www.w3.org/2000/svg\" xmlns:xlink=\"http://www.w3.org/1999/xlink\">\n<g id=\"graph0\" class=\"graph\" transform=\"scale(1 1) rotate(0) translate(4 531)\">\n<title>%3</title>\n<polygon fill=\"white\" stroke=\"transparent\" points=\"-4,4 -4,-531 542,-531 542,4 -4,4\"/>\n<!-- 139650539032304 -->\n<g id=\"node1\" class=\"node\">\n<title>139650539032304</title>\n<polygon fill=\"#caff70\" stroke=\"black\" points=\"190,-31 125,-31 125,0 190,0 190,-31\"/>\n<text text-anchor=\"middle\" x=\"157.5\" y=\"-7\" font-family=\"monospace\" font-size=\"10.00\"> (1, 18)</text>\n</g>\n<!-- 139650540184064 -->\n<g id=\"node2\" class=\"node\">\n<title>139650540184064</title>\n<polygon fill=\"lightgrey\" stroke=\"black\" points=\"223,-86 92,-86 92,-67 223,-67 223,-86\"/>\n<text text-anchor=\"middle\" x=\"157.5\" y=\"-74\" font-family=\"monospace\" font-size=\"10.00\">LogSoftmaxBackward0</text>\n</g>\n<!-- 139650540184064&#45;&gt;139650539032304 -->\n<g id=\"edge21\" class=\"edge\">\n<title>139650540184064&#45;&gt;139650539032304</title>\n<path fill=\"none\" stroke=\"black\" d=\"M157.5,-66.79C157.5,-60.07 157.5,-50.4 157.5,-41.34\"/>\n<polygon fill=\"black\" stroke=\"black\" points=\"161,-41.19 157.5,-31.19 154,-41.19 161,-41.19\"/>\n</g>\n<!-- 139650540182096 -->\n<g id=\"node3\" class=\"node\">\n<title>139650540182096</title>\n<polygon fill=\"lightgrey\" stroke=\"black\" points=\"208,-147 107,-147 107,-128 208,-128 208,-147\"/>\n<text text-anchor=\"middle\" x=\"157.5\" y=\"-135\" font-family=\"monospace\" font-size=\"10.00\">AddmmBackward0</text>\n</g>\n<!-- 139650540182096&#45;&gt;139650540184064 -->\n<g id=\"edge1\" class=\"edge\">\n<title>139650540182096&#45;&gt;139650540184064</title>\n<path fill=\"none\" stroke=\"black\" d=\"M157.5,-127.79C157.5,-119.6 157.5,-107.06 157.5,-96.55\"/>\n<polygon fill=\"black\" stroke=\"black\" points=\"161,-96.24 157.5,-86.24 154,-96.24 161,-96.24\"/>\n</g>\n<!-- 139650540189296 -->\n<g id=\"node4\" class=\"node\">\n<title>139650540189296</title>\n<polygon fill=\"lightgrey\" stroke=\"black\" points=\"101,-208 0,-208 0,-189 101,-189 101,-208\"/>\n<text text-anchor=\"middle\" x=\"50.5\" y=\"-196\" font-family=\"monospace\" font-size=\"10.00\">AccumulateGrad</text>\n</g>\n<!-- 139650540189296&#45;&gt;139650540182096 -->\n<g id=\"edge2\" class=\"edge\">\n<title>139650540189296&#45;&gt;139650540182096</title>\n<path fill=\"none\" stroke=\"black\" d=\"M66.29,-188.79C83.93,-179.07 112.71,-163.2 133.22,-151.89\"/>\n<polygon fill=\"black\" stroke=\"black\" points=\"134.93,-154.94 141.99,-147.05 131.55,-148.81 134.93,-154.94\"/>\n</g>\n<!-- 139650551547120 -->\n<g id=\"node5\" class=\"node\">\n<title>139650551547120</title>\n<polygon fill=\"lightblue\" stroke=\"black\" points=\"83,-274 18,-274 18,-244 83,-244 83,-274\"/>\n<text text-anchor=\"middle\" x=\"50.5\" y=\"-262\" font-family=\"monospace\" font-size=\"10.00\">h2o.bias</text>\n<text text-anchor=\"middle\" x=\"50.5\" y=\"-251\" font-family=\"monospace\" font-size=\"10.00\"> (18)</text>\n</g>\n<!-- 139650551547120&#45;&gt;139650540189296 -->\n<g id=\"edge3\" class=\"edge\">\n<title>139650551547120&#45;&gt;139650540189296</title>\n<path fill=\"none\" stroke=\"black\" d=\"M50.5,-243.84C50.5,-236.21 50.5,-226.7 50.5,-218.45\"/>\n<polygon fill=\"black\" stroke=\"black\" points=\"54,-218.27 50.5,-208.27 47,-218.27 54,-218.27\"/>\n</g>\n<!-- 139650540179936 -->\n<g id=\"node6\" class=\"node\">\n<title>139650540179936</title>\n<polygon fill=\"lightgrey\" stroke=\"black\" points=\"312,-208 217,-208 217,-189 312,-189 312,-208\"/>\n<text text-anchor=\"middle\" x=\"264.5\" y=\"-196\" font-family=\"monospace\" font-size=\"10.00\">TanhBackward0</text>\n</g>\n<!-- 139650540179936&#45;&gt;139650540182096 -->\n<g id=\"edge4\" class=\"edge\">\n<title>139650540179936&#45;&gt;139650540182096</title>\n<path fill=\"none\" stroke=\"black\" d=\"M248.71,-188.79C231.07,-179.07 202.29,-163.2 181.78,-151.89\"/>\n<polygon fill=\"black\" stroke=\"black\" points=\"183.45,-148.81 173.01,-147.05 180.07,-154.94 183.45,-148.81\"/>\n</g>\n<!-- 139650539030464 -->\n<g id=\"node23\" class=\"node\">\n<title>139650539030464</title>\n<polygon fill=\"#caff70\" stroke=\"black\" points=\"300,-153 229,-153 229,-122 300,-122 300,-153\"/>\n<text text-anchor=\"middle\" x=\"264.5\" y=\"-129\" font-family=\"monospace\" font-size=\"10.00\"> (1, 128)</text>\n</g>\n<!-- 139650540179936&#45;&gt;139650539030464 -->\n<g id=\"edge22\" class=\"edge\">\n<title>139650540179936&#45;&gt;139650539030464</title>\n<path fill=\"none\" stroke=\"black\" d=\"M264.5,-188.79C264.5,-182.07 264.5,-172.4 264.5,-163.34\"/>\n<polygon fill=\"black\" stroke=\"black\" points=\"268,-163.19 264.5,-153.19 261,-163.19 268,-163.19\"/>\n</g>\n<!-- 139650540180320 -->\n<g id=\"node7\" class=\"node\">\n<title>139650540180320</title>\n<polygon fill=\"lightgrey\" stroke=\"black\" points=\"312,-268.5 223,-268.5 223,-249.5 312,-249.5 312,-268.5\"/>\n<text text-anchor=\"middle\" x=\"267.5\" y=\"-256.5\" font-family=\"monospace\" font-size=\"10.00\">AddBackward0</text>\n</g>\n<!-- 139650540180320&#45;&gt;139650540179936 -->\n<g id=\"edge5\" class=\"edge\">\n<title>139650540180320&#45;&gt;139650540179936</title>\n<path fill=\"none\" stroke=\"black\" d=\"M267.06,-249.37C266.64,-241.25 266,-228.81 265.47,-218.39\"/>\n<polygon fill=\"black\" stroke=\"black\" points=\"268.95,-217.97 264.94,-208.17 261.96,-218.33 268.95,-217.97\"/>\n</g>\n<!-- 139650540189248 -->\n<g id=\"node8\" class=\"node\">\n<title>139650540189248</title>\n<polygon fill=\"lightgrey\" stroke=\"black\" points=\"434,-334.5 333,-334.5 333,-315.5 434,-315.5 434,-334.5\"/>\n<text text-anchor=\"middle\" x=\"383.5\" y=\"-322.5\" font-family=\"monospace\" font-size=\"10.00\">AddmmBackward0</text>\n</g>\n<!-- 139650540189248&#45;&gt;139650540180320 -->\n<g id=\"edge6\" class=\"edge\">\n<title>139650540189248&#45;&gt;139650540180320</title>\n<path fill=\"none\" stroke=\"black\" d=\"M367.86,-315.37C348.4,-304.63 314.95,-286.18 292.06,-273.55\"/>\n<polygon fill=\"black\" stroke=\"black\" points=\"293.71,-270.47 283.27,-268.7 290.33,-276.59 293.71,-270.47\"/>\n</g>\n<!-- 139650540176960 -->\n<g id=\"node9\" class=\"node\">\n<title>139650540176960</title>\n<polygon fill=\"lightgrey\" stroke=\"black\" points=\"431,-395 330,-395 330,-376 431,-376 431,-395\"/>\n<text text-anchor=\"middle\" x=\"380.5\" y=\"-383\" font-family=\"monospace\" font-size=\"10.00\">AccumulateGrad</text>\n</g>\n<!-- 139650540176960&#45;&gt;139650540189248 -->\n<g id=\"edge7\" class=\"edge\">\n<title>139650540176960&#45;&gt;139650540189248</title>\n<path fill=\"none\" stroke=\"black\" d=\"M380.94,-375.87C381.36,-367.75 382,-355.31 382.53,-344.89\"/>\n<polygon fill=\"black\" stroke=\"black\" points=\"386.04,-344.83 383.06,-334.67 379.05,-344.47 386.04,-344.83\"/>\n</g>\n<!-- 139650551546800 -->\n<g id=\"node10\" class=\"node\">\n<title>139650551546800</title>\n<polygon fill=\"lightblue\" stroke=\"black\" points=\"413,-461 348,-461 348,-431 413,-431 413,-461\"/>\n<text text-anchor=\"middle\" x=\"380.5\" y=\"-449\" font-family=\"monospace\" font-size=\"10.00\">i2h.bias</text>\n<text text-anchor=\"middle\" x=\"380.5\" y=\"-438\" font-family=\"monospace\" font-size=\"10.00\"> (128)</text>\n</g>\n<!-- 139650551546800&#45;&gt;139650540176960 -->\n<g id=\"edge8\" class=\"edge\">\n<title>139650551546800&#45;&gt;139650540176960</title>\n<path fill=\"none\" stroke=\"black\" d=\"M380.5,-430.84C380.5,-423.21 380.5,-413.7 380.5,-405.45\"/>\n<polygon fill=\"black\" stroke=\"black\" points=\"384,-405.27 380.5,-395.27 377,-405.27 384,-405.27\"/>\n</g>\n<!-- 139650540186800 -->\n<g id=\"node11\" class=\"node\">\n<title>139650540186800</title>\n<polygon fill=\"lightgrey\" stroke=\"black\" points=\"526,-395 449,-395 449,-376 526,-376 526,-395\"/>\n<text text-anchor=\"middle\" x=\"487.5\" y=\"-383\" font-family=\"monospace\" font-size=\"10.00\">TBackward0</text>\n</g>\n<!-- 139650540186800&#45;&gt;139650540189248 -->\n<g id=\"edge9\" class=\"edge\">\n<title>139650540186800&#45;&gt;139650540189248</title>\n<path fill=\"none\" stroke=\"black\" d=\"M472.15,-375.87C455.18,-366.32 427.6,-350.81 407.71,-339.62\"/>\n<polygon fill=\"black\" stroke=\"black\" points=\"409.34,-336.52 398.91,-334.67 405.91,-342.62 409.34,-336.52\"/>\n</g>\n<!-- 139650540177632 -->\n<g id=\"node12\" class=\"node\">\n<title>139650540177632</title>\n<polygon fill=\"lightgrey\" stroke=\"black\" points=\"538,-455.5 437,-455.5 437,-436.5 538,-436.5 538,-455.5\"/>\n<text text-anchor=\"middle\" x=\"487.5\" y=\"-443.5\" font-family=\"monospace\" font-size=\"10.00\">AccumulateGrad</text>\n</g>\n<!-- 139650540177632&#45;&gt;139650540186800 -->\n<g id=\"edge10\" class=\"edge\">\n<title>139650540177632&#45;&gt;139650540186800</title>\n<path fill=\"none\" stroke=\"black\" d=\"M487.5,-436.37C487.5,-428.25 487.5,-415.81 487.5,-405.39\"/>\n<polygon fill=\"black\" stroke=\"black\" points=\"491,-405.17 487.5,-395.17 484,-405.17 491,-405.17\"/>\n</g>\n<!-- 139650822943216 -->\n<g id=\"node13\" class=\"node\">\n<title>139650822943216</title>\n<polygon fill=\"lightblue\" stroke=\"black\" points=\"526,-527 449,-527 449,-497 526,-497 526,-527\"/>\n<text text-anchor=\"middle\" x=\"487.5\" y=\"-515\" font-family=\"monospace\" font-size=\"10.00\">i2h.weight</text>\n<text text-anchor=\"middle\" x=\"487.5\" y=\"-504\" font-family=\"monospace\" font-size=\"10.00\"> (128, 57)</text>\n</g>\n<!-- 139650822943216&#45;&gt;139650540177632 -->\n<g id=\"edge11\" class=\"edge\">\n<title>139650822943216&#45;&gt;139650540177632</title>\n<path fill=\"none\" stroke=\"black\" d=\"M487.5,-496.8C487.5,-487.7 487.5,-475.79 487.5,-465.9\"/>\n<polygon fill=\"black\" stroke=\"black\" points=\"491,-465.84 487.5,-455.84 484,-465.84 491,-465.84\"/>\n</g>\n<!-- 139650540185552 -->\n<g id=\"node14\" class=\"node\">\n<title>139650540185552</title>\n<polygon fill=\"lightgrey\" stroke=\"black\" points=\"315,-334.5 214,-334.5 214,-315.5 315,-315.5 315,-334.5\"/>\n<text text-anchor=\"middle\" x=\"264.5\" y=\"-322.5\" font-family=\"monospace\" font-size=\"10.00\">AddmmBackward0</text>\n</g>\n<!-- 139650540185552&#45;&gt;139650540180320 -->\n<g id=\"edge12\" class=\"edge\">\n<title>139650540185552&#45;&gt;139650540180320</title>\n<path fill=\"none\" stroke=\"black\" d=\"M264.9,-315.37C265.34,-306.07 266.05,-290.98 266.61,-278.9\"/>\n<polygon fill=\"black\" stroke=\"black\" points=\"270.11,-279.06 267.08,-268.91 263.12,-278.73 270.11,-279.06\"/>\n</g>\n<!-- 139650540188240 -->\n<g id=\"node15\" class=\"node\">\n<title>139650540188240</title>\n<polygon fill=\"lightgrey\" stroke=\"black\" points=\"214,-395 113,-395 113,-376 214,-376 214,-395\"/>\n<text text-anchor=\"middle\" x=\"163.5\" y=\"-383\" font-family=\"monospace\" font-size=\"10.00\">AccumulateGrad</text>\n</g>\n<!-- 139650540188240&#45;&gt;139650540185552 -->\n<g id=\"edge13\" class=\"edge\">\n<title>139650540188240&#45;&gt;139650540185552</title>\n<path fill=\"none\" stroke=\"black\" d=\"M178.4,-375.87C194.81,-366.36 221.43,-350.95 240.73,-339.77\"/>\n<polygon fill=\"black\" stroke=\"black\" points=\"242.64,-342.71 249.54,-334.67 239.13,-336.65 242.64,-342.71\"/>\n</g>\n<!-- 139650551546960 -->\n<g id=\"node16\" class=\"node\">\n<title>139650551546960</title>\n<polygon fill=\"lightblue\" stroke=\"black\" points=\"196,-461 131,-461 131,-431 196,-431 196,-461\"/>\n<text text-anchor=\"middle\" x=\"163.5\" y=\"-449\" font-family=\"monospace\" font-size=\"10.00\">h2h.bias</text>\n<text text-anchor=\"middle\" x=\"163.5\" y=\"-438\" font-family=\"monospace\" font-size=\"10.00\"> (128)</text>\n</g>\n<!-- 139650551546960&#45;&gt;139650540188240 -->\n<g id=\"edge14\" class=\"edge\">\n<title>139650551546960&#45;&gt;139650540188240</title>\n<path fill=\"none\" stroke=\"black\" d=\"M163.5,-430.84C163.5,-423.21 163.5,-413.7 163.5,-405.45\"/>\n<polygon fill=\"black\" stroke=\"black\" points=\"167,-405.27 163.5,-395.27 160,-405.27 167,-405.27\"/>\n</g>\n<!-- 139650540178640 -->\n<g id=\"node17\" class=\"node\">\n<title>139650540178640</title>\n<polygon fill=\"lightgrey\" stroke=\"black\" points=\"309,-395 232,-395 232,-376 309,-376 309,-395\"/>\n<text text-anchor=\"middle\" x=\"270.5\" y=\"-383\" font-family=\"monospace\" font-size=\"10.00\">TBackward0</text>\n</g>\n<!-- 139650540178640&#45;&gt;139650540185552 -->\n<g id=\"edge15\" class=\"edge\">\n<title>139650540178640&#45;&gt;139650540185552</title>\n<path fill=\"none\" stroke=\"black\" d=\"M269.61,-375.87C268.78,-367.75 267.51,-355.31 266.44,-344.89\"/>\n<polygon fill=\"black\" stroke=\"black\" points=\"269.89,-344.26 265.39,-334.67 262.93,-344.97 269.89,-344.26\"/>\n</g>\n<!-- 139650540183344 -->\n<g id=\"node18\" class=\"node\">\n<title>139650540183344</title>\n<polygon fill=\"lightgrey\" stroke=\"black\" points=\"321,-455.5 220,-455.5 220,-436.5 321,-436.5 321,-455.5\"/>\n<text text-anchor=\"middle\" x=\"270.5\" y=\"-443.5\" font-family=\"monospace\" font-size=\"10.00\">AccumulateGrad</text>\n</g>\n<!-- 139650540183344&#45;&gt;139650540178640 -->\n<g id=\"edge16\" class=\"edge\">\n<title>139650540183344&#45;&gt;139650540178640</title>\n<path fill=\"none\" stroke=\"black\" d=\"M270.5,-436.37C270.5,-428.25 270.5,-415.81 270.5,-405.39\"/>\n<polygon fill=\"black\" stroke=\"black\" points=\"274,-405.17 270.5,-395.17 267,-405.17 274,-405.17\"/>\n</g>\n<!-- 139650551546880 -->\n<g id=\"node19\" class=\"node\">\n<title>139650551546880</title>\n<polygon fill=\"lightblue\" stroke=\"black\" points=\"312,-527 229,-527 229,-497 312,-497 312,-527\"/>\n<text text-anchor=\"middle\" x=\"270.5\" y=\"-515\" font-family=\"monospace\" font-size=\"10.00\">h2h.weight</text>\n<text text-anchor=\"middle\" x=\"270.5\" y=\"-504\" font-family=\"monospace\" font-size=\"10.00\"> (128, 128)</text>\n</g>\n<!-- 139650551546880&#45;&gt;139650540183344 -->\n<g id=\"edge17\" class=\"edge\">\n<title>139650551546880&#45;&gt;139650540183344</title>\n<path fill=\"none\" stroke=\"black\" d=\"M270.5,-496.8C270.5,-487.7 270.5,-475.79 270.5,-465.9\"/>\n<polygon fill=\"black\" stroke=\"black\" points=\"274,-465.84 270.5,-455.84 267,-465.84 274,-465.84\"/>\n</g>\n<!-- 139650540180128 -->\n<g id=\"node20\" class=\"node\">\n<title>139650540180128</title>\n<polygon fill=\"lightgrey\" stroke=\"black\" points=\"196,-208 119,-208 119,-189 196,-189 196,-208\"/>\n<text text-anchor=\"middle\" x=\"157.5\" y=\"-196\" font-family=\"monospace\" font-size=\"10.00\">TBackward0</text>\n</g>\n<!-- 139650540180128&#45;&gt;139650540182096 -->\n<g id=\"edge18\" class=\"edge\">\n<title>139650540180128&#45;&gt;139650540182096</title>\n<path fill=\"none\" stroke=\"black\" d=\"M157.5,-188.79C157.5,-180.6 157.5,-168.06 157.5,-157.55\"/>\n<polygon fill=\"black\" stroke=\"black\" points=\"161,-157.24 157.5,-147.24 154,-157.24 161,-157.24\"/>\n</g>\n<!-- 139650540177440 -->\n<g id=\"node21\" class=\"node\">\n<title>139650540177440</title>\n<polygon fill=\"lightgrey\" stroke=\"black\" points=\"205,-268.5 104,-268.5 104,-249.5 205,-249.5 205,-268.5\"/>\n<text text-anchor=\"middle\" x=\"154.5\" y=\"-256.5\" font-family=\"monospace\" font-size=\"10.00\">AccumulateGrad</text>\n</g>\n<!-- 139650540177440&#45;&gt;139650540180128 -->\n<g id=\"edge19\" class=\"edge\">\n<title>139650540177440&#45;&gt;139650540180128</title>\n<path fill=\"none\" stroke=\"black\" d=\"M154.94,-249.37C155.36,-241.25 156,-228.81 156.53,-218.39\"/>\n<polygon fill=\"black\" stroke=\"black\" points=\"160.04,-218.33 157.06,-208.17 153.05,-217.97 160.04,-218.33\"/>\n</g>\n<!-- 139650551547040 -->\n<g id=\"node22\" class=\"node\">\n<title>139650551547040</title>\n<polygon fill=\"lightblue\" stroke=\"black\" points=\"193,-340 116,-340 116,-310 193,-310 193,-340\"/>\n<text text-anchor=\"middle\" x=\"154.5\" y=\"-328\" font-family=\"monospace\" font-size=\"10.00\">h2o.weight</text>\n<text text-anchor=\"middle\" x=\"154.5\" y=\"-317\" font-family=\"monospace\" font-size=\"10.00\"> (18, 128)</text>\n</g>\n<!-- 139650551547040&#45;&gt;139650540177440 -->\n<g id=\"edge20\" class=\"edge\">\n<title>139650551547040&#45;&gt;139650540177440</title>\n<path fill=\"none\" stroke=\"black\" d=\"M154.5,-309.8C154.5,-300.7 154.5,-288.79 154.5,-278.9\"/>\n<polygon fill=\"black\" stroke=\"black\" points=\"158,-278.84 154.5,-268.84 151,-278.84 158,-278.84\"/>\n</g>\n</g>\n</svg>\n",
            "text/plain": [
              "<graphviz.graphs.Digraph at 0x7f02ecd71330>"
            ]
          },
          "metadata": {}
        }
      ]
    },
    {
      "cell_type": "code",
      "source": [
        "input = lineToTensor('Albert')\n",
        "hidden = torch.zeros(1, n_hidden)\n",
        "\n",
        "output, next_hidden = rnn(input[0], hidden)\n",
        "print(output)"
      ],
      "metadata": {
        "colab": {
          "base_uri": "https://localhost:8080/"
        },
        "id": "1SRW8ff0FBEA",
        "outputId": "c0bf8130-d56f-4f07-ec90-57594a029ca0"
      },
      "execution_count": 39,
      "outputs": [
        {
          "output_type": "stream",
          "name": "stdout",
          "text": [
            "tensor([[-2.9380, -2.8233, -2.9013, -2.8975, -2.9458, -2.7789, -2.8396, -2.8704,\n",
            "         -2.8855, -2.8916, -2.8130, -2.7616, -2.8700, -3.0242, -2.9093, -3.0116,\n",
            "         -2.9321, -2.9784]], grad_fn=<LogSoftmaxBackward0>)\n"
          ]
        }
      ]
    },
    {
      "cell_type": "markdown",
      "source": [
        "# $\\textbf{Training}$"
      ],
      "metadata": {
        "id": "qyaxQWLfFcPa"
      }
    },
    {
      "cell_type": "markdown",
      "source": [
        "$\\text{Index of Greatest Value}$"
      ],
      "metadata": {
        "id": "M23xblxMG0af"
      }
    },
    {
      "cell_type": "code",
      "source": [
        "def categoryFromOutput(output):\n",
        "  top_n, top_i = output.topk(1)\n",
        "  category_i = top_i[0].item()\n",
        "  return all_categories[category_i], category_i\n",
        "\n",
        "print(categoryFromOutput(output))"
      ],
      "metadata": {
        "colab": {
          "base_uri": "https://localhost:8080/"
        },
        "id": "ax7C5OhNFkgt",
        "outputId": "7db3f2c7-f4c6-46ec-fe6c-4105789a3dca"
      },
      "execution_count": 36,
      "outputs": [
        {
          "output_type": "stream",
          "name": "stdout",
          "text": [
            "('Spanish', 11)\n"
          ]
        }
      ]
    },
    {
      "cell_type": "markdown",
      "source": [
        "$\\text{Getting Training Examples}$"
      ],
      "metadata": {
        "id": "a43JrLXPIyIH"
      }
    },
    {
      "cell_type": "code",
      "source": [
        "import random\n",
        "\n",
        "def randomChoice(l):\n",
        "  return l[random.randint(0, len(l)-1)]\n",
        "\n",
        "def randomTrainingExample():\n",
        "  category = randomChoice(all_categories)\n",
        "  line = randomChoice(category_lines[category])\n",
        "  category_tensor = torch.tensor([all_categories.index(category)], dtype=torch.long)\n",
        "  line_tensor = lineToTensor(line)\n",
        "  return category, line, category_tensor, line_tensor\n",
        "\n",
        "for i in range(10):\n",
        "  category, line, category_tensor, line_tensor = randomTrainingExample()\n",
        "  print('category = ', category, '     /    line = ', line)"
      ],
      "metadata": {
        "colab": {
          "base_uri": "https://localhost:8080/"
        },
        "id": "sl1hNCLbIxqV",
        "outputId": "b52b0c7c-2dc0-4ce4-9fa0-dfce45db8cd2"
      },
      "execution_count": 46,
      "outputs": [
        {
          "output_type": "stream",
          "name": "stdout",
          "text": [
            "category =  Japanese      /    line =  Nozara\n",
            "category =  Scottish      /    line =  Mccallum\n",
            "category =  Spanish      /    line =  Ortiz\n",
            "category =  Arabic      /    line =  Shadid\n",
            "category =  French      /    line =  Germain\n",
            "category =  German      /    line =  Behrends\n",
            "category =  Dutch      /    line =  Veen\n",
            "category =  Irish      /    line =  O'Toole\n",
            "category =  Arabic      /    line =  Abadi\n",
            "category =  Polish      /    line =  Andrysiak\n"
          ]
        }
      ]
    },
    {
      "cell_type": "markdown",
      "source": [
        "$\\textbf{Training}$"
      ],
      "metadata": {
        "id": "EsC8ZqQwKy64"
      }
    },
    {
      "cell_type": "code",
      "source": [
        "def train(category_tensor, line_tensor):\n",
        "  hidden = rnn.initHidden()\n",
        "\n",
        "  rnn.zero_grad()\n",
        "\n",
        "  for i in range(line_tensor.size()[0]):\n",
        "    output, hidden = rnn(line_tensor[i], hidden)\n",
        "\n",
        "  loss = criterion(input=output, target=category_tensor)\n",
        "  loss.backward()\n",
        "\n",
        "  for p in rnn.parameters():\n",
        "    p.data.add_(p.grad.data, alpha=-lr)\n",
        "  return output, loss.item()"
      ],
      "metadata": {
        "id": "hyNyH6Z8IcRR"
      },
      "execution_count": 50,
      "outputs": []
    },
    {
      "cell_type": "code",
      "source": [
        "import time\n",
        "import math\n",
        "\n",
        "n_iters = 100000\n",
        "print_every = 5000\n",
        "plot_every = 1000\n",
        "\n",
        "current_loss = 0\n",
        "all_losses = []\n",
        "\n",
        "criterion = nn.NLLLoss()\n",
        "lr = 0.005\n",
        "\n",
        "def timeSince(since):\n",
        "  now = time.time()\n",
        "  s = now - since\n",
        "  m = math.floor(s/60)\n",
        "  s = s - m * 60\n",
        "  return f'{m}m {int(s)}s'\n",
        "\n",
        "start = time.time()\n",
        "\n",
        "for iter in range(1, n_iters+1):\n",
        "  category, line, category_tensor, line_tensor = randomTrainingExample()\n",
        "  output, loss = train(category_tensor, line_tensor)\n",
        "  current_loss += loss\n",
        "\n",
        "  if iter % print_every == 0:\n",
        "    guess, guess_i = categoryFromOutput(output)\n",
        "    correct = '✓' if guess == category else '✗ (%s)' % category\n",
        "    print('%d %d%% (%s) %.4f %s / %s %s' % (iter, iter / n_iters * 100, timeSince(start), loss, line, guess, correct))\n",
        "  if iter % plot_every == 0:\n",
        "    all_losses.append(current_loss / plot_every)\n",
        "    current_loss = 0"
      ],
      "metadata": {
        "colab": {
          "base_uri": "https://localhost:8080/"
        },
        "id": "pitVea9qQ1e1",
        "outputId": "d47a0cfb-e0c1-437c-f7b2-d6b705a282db"
      },
      "execution_count": 53,
      "outputs": [
        {
          "output_type": "stream",
          "name": "stdout",
          "text": [
            "5000 5% (0m 10s) 0.4390 White / Scottish ✓\n",
            "10000 10% (0m 21s) 0.1629 Kassis / Arabic ✓\n",
            "15000 15% (0m 32s) 1.7176 Wallace / Irish ✗ (Scottish)\n",
            "20000 20% (0m 42s) 0.1904 Si / Korean ✓\n",
            "25000 25% (0m 52s) 0.0441 Hanania / Arabic ✓\n",
            "30000 30% (1m 4s) 0.6878 She / Chinese ✓\n",
            "35000 35% (1m 15s) 0.3161 Skala / Polish ✓\n",
            "40000 40% (1m 26s) 1.0355 Kang / Chinese ✓\n",
            "45000 45% (1m 36s) 1.7411 Duval / Czech ✗ (French)\n",
            "50000 50% (1m 46s) 0.0045 Antoniadis / Greek ✓\n",
            "55000 55% (1m 57s) 0.0074 Nakamura / Japanese ✓\n",
            "60000 60% (2m 8s) 0.0806 Qiao / Chinese ✓\n",
            "65000 65% (2m 18s) 1.9691 Gooding / German ✗ (English)\n",
            "70000 70% (2m 29s) 0.0063 Vingovatov / Russian ✓\n",
            "75000 75% (2m 40s) 0.1248 Chang / Korean ✓\n",
            "80000 80% (2m 51s) 0.0028 Thuy / Vietnamese ✓\n",
            "85000 85% (3m 1s) 0.7642 Shannon / Irish ✓\n",
            "90000 90% (3m 12s) 1.1399 Peter / Czech ✗ (Dutch)\n",
            "95000 95% (3m 22s) 0.1311 Christakos / Greek ✓\n",
            "100000 100% (3m 33s) 0.5746 Chung / Vietnamese ✓\n"
          ]
        }
      ]
    },
    {
      "cell_type": "code",
      "source": [
        "import matplotlib.pyplot as plt\n",
        "\n",
        "plt.style.use('ggplot')\n",
        "\n",
        "plt.figure()\n",
        "plt.plot(all_losses)\n",
        "plt.xlabel('Epochs')\n",
        "plt.ylabel('Loss')\n",
        "plt.title('Training Loss over Epochs')\n",
        "plt.grid(True)\n",
        "plt.show()"
      ],
      "metadata": {
        "colab": {
          "base_uri": "https://localhost:8080/",
          "height": 477
        },
        "id": "dB-WvxpFTCut",
        "outputId": "723a7fc4-e5af-49e7-d566-86a5abdac191"
      },
      "execution_count": 55,
      "outputs": [
        {
          "output_type": "display_data",
          "data": {
            "text/plain": [
              "<Figure size 640x480 with 1 Axes>"
            ],
            "image/png": "[encoded data removed]"
          },
          "metadata": {}
        }
      ]
    },
    {
      "cell_type": "markdown",
      "source": [
        "## $\\textbf{Evaluate}$"
      ],
      "metadata": {
        "id": "8OyLYJu0U_mq"
      }
    },
    {
      "cell_type": "code",
      "source": [
        "confusion = torch.zeros(n_categories, n_categories)\n",
        "\n",
        "n_confusion = 10000\n",
        "\n",
        "def evaluate(line_tensor):\n",
        "  hidden = rnn.initHidden()\n",
        "\n",
        "  for i in range(line_tensor.size()[0]):\n",
        "    output, hidden = rnn(line_tensor[i], hidden)\n",
        "  return output"
      ],
      "metadata": {
        "id": "yD-t2lDyVEc2"
      },
      "execution_count": 56,
      "outputs": []
    },
    {
      "cell_type": "code",
      "source": [
        "for i in range(n_confusion):\n",
        "  category, line, category_tensor, line_tensor = randomTrainingExample()\n",
        "  output = evaluate(line_tensor)\n",
        "  guess, guess_i = categoryFromOutput(output)\n",
        "  category_i = all_categories.index(category)\n",
        "  confusion[category_i][guess_i] += 1\n",
        "\n",
        "for i in range(n_categories):\n",
        "  confusion[i] = confusion[i] / confusion[i].sum()"
      ],
      "metadata": {
        "id": "s3W7MmufWnSd"
      },
      "execution_count": 58,
      "outputs": []
    },
    {
      "cell_type": "code",
      "source": [
        "import matplotlib.ticker as ticker\n",
        "\n",
        "fig = plt.figure()\n",
        "ax = fig.add_subplot(111)\n",
        "cax = ax.matshow(confusion.numpy())\n",
        "fig.colorbar(cax)\n",
        "\n",
        "ax.xaxis.set_major_locator(ticker.MultipleLocator(1))\n",
        "ax.yaxis.set_major_locator(ticker.MultipleLocator(1))\n",
        "\n",
        "ax.set_xticklabels([''] + all_categories, rotation=90)\n",
        "ax.set_yticklabels([''] + all_categories)\n",
        "\n",
        "plt.show()"
      ],
      "metadata": {
        "colab": {
          "base_uri": "https://localhost:8080/",
          "height": 575
        },
        "id": "pjoEJIwjXTkU",
        "outputId": "95cca6ba-2581-445d-e678-8f704381c548"
      },
      "execution_count": 61,
      "outputs": [
        {
          "output_type": "stream",
          "name": "stderr",
          "text": [
            "<ipython-input-61-a3de753772b0>:11: UserWarning: FixedFormatter should only be used together with FixedLocator\n",
            "  ax.set_xticklabels([''] + all_categories, rotation=90)\n",
            "<ipython-input-61-a3de753772b0>:12: UserWarning: FixedFormatter should only be used together with FixedLocator\n",
            "  ax.set_yticklabels([''] + all_categories)\n"
          ]
        },
        {
          "output_type": "display_data",
          "data": {
            "text/plain": [
              "<Figure size 640x480 with 2 Axes>"
            ],
            "image/png": "[encoded data removed]"
          },
          "metadata": {}
        }
      ]
    }
  ]
}