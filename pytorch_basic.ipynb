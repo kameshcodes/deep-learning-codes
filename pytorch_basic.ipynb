{
  "nbformat": 4,
  "nbformat_minor": 0,
  "metadata": {
    "colab": {
      "provenance": [],
      "toc_visible": true,
      "gpuType": "T4",
      "authorship_tag": "ABX9TyM24Td/euiGEqLrYQ01BpC1",
      "include_colab_link": true
    },
    "kernelspec": {
      "name": "python3",
      "display_name": "Python 3"
    },
    "language_info": {
      "name": "python"
    },
    "accelerator": "GPU"
  },
  "cells": [
    {
      "cell_type": "markdown",
      "metadata": {
        "id": "view-in-github",
        "colab_type": "text"
      },
      "source": [
        "<a href=\"https://colab.research.google.com/github/kameshcodes/deep-learning-codes/blob/main/pytorch_basic.ipynb\" target=\"_parent\"><img src=\"https://colab.research.google.com/assets/colab-badge.svg\" alt=\"Open In Colab\"/></a>"
      ]
    },
    {
      "cell_type": "markdown",
      "source": [
        "$$\\textbf{Pytorch Day 1}$$\n",
        "\n",
        "---"
      ],
      "metadata": {
        "id": "nmiNs-NXqf9j"
      }
    },
    {
      "cell_type": "markdown",
      "source": [
        "# 1. $\\textbf{Tensor Basics}$"
      ],
      "metadata": {
        "id": "rQTx0xfmugTj"
      }
    },
    {
      "cell_type": "code",
      "source": [
        "import torch\n",
        "\n",
        "import random\n",
        "random.seed(1) #for reprodicibility"
      ],
      "metadata": {
        "id": "B3-XcANeu-WM"
      },
      "execution_count": 1,
      "outputs": []
    },
    {
      "cell_type": "markdown",
      "source": [
        "## $\\textbf{1.1 Tensor Creation}$"
      ],
      "metadata": {
        "id": "b77RTJqH3HKf"
      }
    },
    {
      "cell_type": "markdown",
      "source": [
        "### $\\text{1.1.1 Empty Tensors}$\n"
      ],
      "metadata": {
        "id": "0_eBb3ORxfQI"
      }
    },
    {
      "cell_type": "code",
      "source": [
        "x = torch.empty(1)\n",
        "print(x)"
      ],
      "metadata": {
        "colab": {
          "base_uri": "https://localhost:8080/"
        },
        "id": "54v-GRiYvSgq",
        "outputId": "15ad8a5f-a320-4c1d-e04b-e1e92040b717"
      },
      "execution_count": 2,
      "outputs": [
        {
          "output_type": "stream",
          "name": "stdout",
          "text": [
            "tensor([1.3556e-19])\n"
          ]
        }
      ]
    },
    {
      "cell_type": "markdown",
      "source": [
        "$\\text{This empty tensor means it will intialize an empty tensor, basically a garbage value}$"
      ],
      "metadata": {
        "id": "B5C1hA5Xvul2"
      }
    },
    {
      "cell_type": "code",
      "source": [
        "x = torch.empty(3)\n",
        "print(x)"
      ],
      "metadata": {
        "colab": {
          "base_uri": "https://localhost:8080/"
        },
        "id": "yZSDCFqyv2Aa",
        "outputId": "82f829aa-c26b-4e03-8ac4-790cddb4255f"
      },
      "execution_count": 3,
      "outputs": [
        {
          "output_type": "stream",
          "name": "stdout",
          "text": [
            "tensor([8.9469e+08, 3.1681e-41, 2.1017e-21])\n"
          ]
        }
      ]
    },
    {
      "cell_type": "markdown",
      "source": [
        "<br>\n",
        "\n",
        "\n",
        "$\\textbf{Lets make multidimensional tensor}$"
      ],
      "metadata": {
        "id": "juKGOVhlwPww"
      }
    },
    {
      "cell_type": "code",
      "source": [
        "x = torch.empty(3, 4)\n",
        "print(x)"
      ],
      "metadata": {
        "colab": {
          "base_uri": "https://localhost:8080/"
        },
        "id": "AeZjNSD9wPBG",
        "outputId": "9bcab22a-7d5a-4706-d57c-68bf5081b30b"
      },
      "execution_count": 4,
      "outputs": [
        {
          "output_type": "stream",
          "name": "stdout",
          "text": [
            "tensor([[0.0000e+00, 0.0000e+00, 8.9602e+08, 3.1681e-41],\n",
            "        [1.6450e+08, 3.1681e-41, 5.5599e-12, 4.3489e-41],\n",
            "        [1.4013e-45, 0.0000e+00, 4.2039e-45, 0.0000e+00]])\n"
          ]
        }
      ]
    },
    {
      "cell_type": "code",
      "source": [
        "x = torch.empty(2, 3, 4)\n",
        "print(x)"
      ],
      "metadata": {
        "colab": {
          "base_uri": "https://localhost:8080/"
        },
        "id": "lYJfeCdjw09p",
        "outputId": "5c6068c7-2de4-4896-b576-44737b0f52e4"
      },
      "execution_count": 5,
      "outputs": [
        {
          "output_type": "stream",
          "name": "stdout",
          "text": [
            "tensor([[[1.0003e+09, 3.1681e-41, 1.0003e+09, 3.1681e-41],\n",
            "         [2.3822e-44, 0.0000e+00, 3.4834e+05, 3.1681e-41],\n",
            "         [1.0003e+09, 3.1681e-41, 2.0319e-43, 0.0000e+00]],\n",
            "\n",
            "        [[8.9604e+08, 3.1681e-41, 1.0001e+09, 3.1681e-41],\n",
            "         [1.6241e-42, 3.1681e-41, 1.0003e+09, 3.1681e-41],\n",
            "         [1.9618e-44, 0.0000e+00, 1.0003e+09, 3.1681e-41]]])\n"
          ]
        }
      ]
    },
    {
      "cell_type": "markdown",
      "source": [
        "### $\\text{1.1.2 Tensors of zeros}$"
      ],
      "metadata": {
        "id": "VcMr92NSxz73"
      }
    },
    {
      "cell_type": "code",
      "source": [
        "y = torch.zeros(3)\n",
        "print(y)"
      ],
      "metadata": {
        "colab": {
          "base_uri": "https://localhost:8080/"
        },
        "id": "t_OednKdw5xE",
        "outputId": "1e05594b-6916-465e-9859-3f6b1c01bb1a"
      },
      "execution_count": 6,
      "outputs": [
        {
          "output_type": "stream",
          "name": "stdout",
          "text": [
            "tensor([0., 0., 0.])\n"
          ]
        }
      ]
    },
    {
      "cell_type": "code",
      "source": [
        "y = torch.zeros(3,4)\n",
        "print(y)"
      ],
      "metadata": {
        "colab": {
          "base_uri": "https://localhost:8080/"
        },
        "id": "ikNGYx2AyO6x",
        "outputId": "6d0fbdbf-d4bf-458b-aa4b-59df6edede03"
      },
      "execution_count": 7,
      "outputs": [
        {
          "output_type": "stream",
          "name": "stdout",
          "text": [
            "tensor([[0., 0., 0., 0.],\n",
            "        [0., 0., 0., 0.],\n",
            "        [0., 0., 0., 0.]])\n"
          ]
        }
      ]
    },
    {
      "cell_type": "code",
      "source": [
        "y = torch.zeros(2,3,4)\n",
        "print(y)"
      ],
      "metadata": {
        "colab": {
          "base_uri": "https://localhost:8080/"
        },
        "id": "Xpron_f2yl4g",
        "outputId": "b1b93308-14d6-4009-f4ab-e34632b8d1a3"
      },
      "execution_count": 8,
      "outputs": [
        {
          "output_type": "stream",
          "name": "stdout",
          "text": [
            "tensor([[[0., 0., 0., 0.],\n",
            "         [0., 0., 0., 0.],\n",
            "         [0., 0., 0., 0.]],\n",
            "\n",
            "        [[0., 0., 0., 0.],\n",
            "         [0., 0., 0., 0.],\n",
            "         [0., 0., 0., 0.]]])\n"
          ]
        }
      ]
    },
    {
      "cell_type": "markdown",
      "source": [
        "###  $\\text{1.1.3 Tensor of ones and torch dtypes}$"
      ],
      "metadata": {
        "id": "SJehXGdJzDzT"
      }
    },
    {
      "cell_type": "code",
      "source": [
        "z = torch.ones(3)\n",
        "print(z)"
      ],
      "metadata": {
        "colab": {
          "base_uri": "https://localhost:8080/"
        },
        "id": "DRYxOUjUzDI6",
        "outputId": "5910b8c5-5300-40d3-d6f9-2218d155d3c6"
      },
      "execution_count": 9,
      "outputs": [
        {
          "output_type": "stream",
          "name": "stdout",
          "text": [
            "tensor([1., 1., 1.])\n"
          ]
        }
      ]
    },
    {
      "cell_type": "code",
      "source": [
        "print(z.dtype)"
      ],
      "metadata": {
        "colab": {
          "base_uri": "https://localhost:8080/"
        },
        "id": "54oYmonnzft7",
        "outputId": "ece386a2-41b0-4786-a435-390b347eb95c"
      },
      "execution_count": 10,
      "outputs": [
        {
          "output_type": "stream",
          "name": "stdout",
          "text": [
            "torch.float32\n"
          ]
        }
      ]
    },
    {
      "cell_type": "markdown",
      "source": [
        "$\\text{By default, The datatype inside the tensors are float 32.}$\n",
        "\n"
      ],
      "metadata": {
        "id": "mg5Z3jb-z4E4"
      }
    },
    {
      "cell_type": "code",
      "source": [
        "print(y.dtype)"
      ],
      "metadata": {
        "colab": {
          "base_uri": "https://localhost:8080/"
        },
        "id": "cguEfq1Az0uP",
        "outputId": "ccc01d7e-4f75-421a-c3db-be66c9ac4932"
      },
      "execution_count": 11,
      "outputs": [
        {
          "output_type": "stream",
          "name": "stdout",
          "text": [
            "torch.float32\n"
          ]
        }
      ]
    },
    {
      "cell_type": "markdown",
      "source": [
        "$\\text{You can see the same with tensor of zeros as well. But, We can change this}$\n",
        "\n",
        "**Pass:** `dtype=torch.datatype`\n",
        "\n"
      ],
      "metadata": {
        "id": "OH5WAxpPzpLx"
      }
    },
    {
      "cell_type": "code",
      "source": [
        "z = torch.ones(3, dtype=torch.int32)\n",
        "print(z)"
      ],
      "metadata": {
        "colab": {
          "base_uri": "https://localhost:8080/"
        },
        "id": "1qzyR6P70TcW",
        "outputId": "194d7624-e4e1-4028-cc5b-16f03d34da62"
      },
      "execution_count": 12,
      "outputs": [
        {
          "output_type": "stream",
          "name": "stdout",
          "text": [
            "tensor([1, 1, 1], dtype=torch.int32)\n"
          ]
        }
      ]
    },
    {
      "cell_type": "code",
      "source": [
        "z = torch.ones(3, dtype=torch.double)\n",
        "print(z)"
      ],
      "metadata": {
        "colab": {
          "base_uri": "https://localhost:8080/"
        },
        "id": "97pLeEZq0QyL",
        "outputId": "a4ef4aa1-0b1f-4e8e-dcf2-ca036221d3f4"
      },
      "execution_count": 13,
      "outputs": [
        {
          "output_type": "stream",
          "name": "stdout",
          "text": [
            "tensor([1., 1., 1.], dtype=torch.float64)\n"
          ]
        }
      ]
    },
    {
      "cell_type": "code",
      "source": [
        "z = torch.ones(3, dtype=torch.float32)\n",
        "print(z)"
      ],
      "metadata": {
        "colab": {
          "base_uri": "https://localhost:8080/"
        },
        "id": "rfuuV5I40Rzk",
        "outputId": "f03b82cb-3c04-4ccd-bd1e-ed65aa3c504b"
      },
      "execution_count": 14,
      "outputs": [
        {
          "output_type": "stream",
          "name": "stdout",
          "text": [
            "tensor([1., 1., 1.])\n"
          ]
        }
      ]
    },
    {
      "cell_type": "markdown",
      "source": [
        "### $\\text{1.1.4 size()}$"
      ],
      "metadata": {
        "id": "XrL5riOo1FNn"
      }
    },
    {
      "cell_type": "code",
      "source": [
        "z = torch.ones(3, dtype=torch.double)\n",
        "print(z)"
      ],
      "metadata": {
        "colab": {
          "base_uri": "https://localhost:8080/"
        },
        "id": "VdQMqVAW1EKH",
        "outputId": "2824b1bf-4872-42ed-e21e-f7921b7b9e5d"
      },
      "execution_count": 15,
      "outputs": [
        {
          "output_type": "stream",
          "name": "stdout",
          "text": [
            "tensor([1., 1., 1.], dtype=torch.float64)\n"
          ]
        }
      ]
    },
    {
      "cell_type": "code",
      "source": [
        "z.size"
      ],
      "metadata": {
        "colab": {
          "base_uri": "https://localhost:8080/"
        },
        "id": "Heogt5OG1D9F",
        "outputId": "fdcff68d-ad55-45ef-af02-838e942dabf0"
      },
      "execution_count": 16,
      "outputs": [
        {
          "output_type": "execute_result",
          "data": {
            "text/plain": [
              "<function Tensor.size>"
            ]
          },
          "metadata": {},
          "execution_count": 16
        }
      ]
    },
    {
      "cell_type": "markdown",
      "source": [
        " size$\\text{ does not work the was in pandas but here you write it a method like }$ `z.size()`"
      ],
      "metadata": {
        "id": "JnqLQRhH1UV8"
      }
    },
    {
      "cell_type": "code",
      "source": [
        "z.size()"
      ],
      "metadata": {
        "colab": {
          "base_uri": "https://localhost:8080/"
        },
        "id": "gh7CdwlF1Txp",
        "outputId": "06636bdd-f66b-4ffc-cb23-79be06a4c9f4"
      },
      "execution_count": 17,
      "outputs": [
        {
          "output_type": "execute_result",
          "data": {
            "text/plain": [
              "torch.Size([3])"
            ]
          },
          "metadata": {},
          "execution_count": 17
        }
      ]
    },
    {
      "cell_type": "code",
      "source": [
        "z = torch.ones(5, 3, dtype=torch.double)\n",
        "z.size()"
      ],
      "metadata": {
        "colab": {
          "base_uri": "https://localhost:8080/"
        },
        "id": "EZkhQcwf1D5s",
        "outputId": "03130142-4e32-44d1-fe44-d9bc6cee38ee"
      },
      "execution_count": 18,
      "outputs": [
        {
          "output_type": "execute_result",
          "data": {
            "text/plain": [
              "torch.Size([5, 3])"
            ]
          },
          "metadata": {},
          "execution_count": 18
        }
      ]
    },
    {
      "cell_type": "markdown",
      "source": [
        "### 1.1.5 $\\text{Creating Tensor for Data}$"
      ],
      "metadata": {
        "id": "FZIg3OCH2JHM"
      }
    },
    {
      "cell_type": "code",
      "source": [
        "list_data = [1,2,3,4]\n",
        "tensor_data = torch.tensor(list_data, dtype=torch.float16) # Note: You can change type of data as well when you are converting\n",
        "print(tensor_data)"
      ],
      "metadata": {
        "colab": {
          "base_uri": "https://localhost:8080/"
        },
        "id": "f18AvAcP2IqC",
        "outputId": "daaa1b15-72e7-4868-95c0-87c6eaed7018"
      },
      "execution_count": 19,
      "outputs": [
        {
          "output_type": "stream",
          "name": "stdout",
          "text": [
            "tensor([1., 2., 3., 4.], dtype=torch.float16)\n"
          ]
        }
      ]
    },
    {
      "cell_type": "markdown",
      "source": [
        "## $\\textbf{1.2 Tensor Operations}$"
      ],
      "metadata": {
        "id": "QYOrJuIn3lQC"
      }
    },
    {
      "cell_type": "markdown",
      "source": [
        "#### $\\text{1.2.1 Addition of Tensors}$"
      ],
      "metadata": {
        "id": "deeG6q7V5UJU"
      }
    },
    {
      "cell_type": "code",
      "source": [
        "x = torch.rand(2,2) # rand create a random tensor\n",
        "y = torch.ones(2,2, dtype=torch.int16) # creates a tensor of 1's\n",
        "\n",
        "print(x)\n",
        "print(y)"
      ],
      "metadata": {
        "colab": {
          "base_uri": "https://localhost:8080/"
        },
        "id": "6g_qD_Ny2ET3",
        "outputId": "12b7cf1b-b23b-4ddf-adb3-987c62cbdc60"
      },
      "execution_count": 20,
      "outputs": [
        {
          "output_type": "stream",
          "name": "stdout",
          "text": [
            "tensor([[0.5398, 0.7987],\n",
            "        [0.4130, 0.7581]])\n",
            "tensor([[1, 1],\n",
            "        [1, 1]], dtype=torch.int16)\n"
          ]
        }
      ]
    },
    {
      "cell_type": "code",
      "source": [
        "z = x+y\n",
        "print(z)"
      ],
      "metadata": {
        "colab": {
          "base_uri": "https://localhost:8080/"
        },
        "id": "3h3LRG0E2EQS",
        "outputId": "fb905165-0fdb-4b40-ce35-9e37550aab0f"
      },
      "execution_count": 21,
      "outputs": [
        {
          "output_type": "stream",
          "name": "stdout",
          "text": [
            "tensor([[1.5398, 1.7987],\n",
            "        [1.4130, 1.7581]])\n"
          ]
        }
      ]
    },
    {
      "cell_type": "code",
      "source": [
        "z = torch.add(x,y)\n",
        "print(z)"
      ],
      "metadata": {
        "colab": {
          "base_uri": "https://localhost:8080/"
        },
        "id": "31AjCDIi2ENR",
        "outputId": "fc46d8e0-7277-49c9-f4ce-10f66ff50cdf"
      },
      "execution_count": 22,
      "outputs": [
        {
          "output_type": "stream",
          "name": "stdout",
          "text": [
            "tensor([[1.5398, 1.7987],\n",
            "        [1.4130, 1.7581]])\n"
          ]
        }
      ]
    },
    {
      "cell_type": "markdown",
      "source": [
        "$\\text{Inplace Addition}$"
      ],
      "metadata": {
        "id": "a6FNPg415pVz"
      }
    },
    {
      "cell_type": "code",
      "source": [
        "x.add_(y)\n",
        "print(x)"
      ],
      "metadata": {
        "colab": {
          "base_uri": "https://localhost:8080/"
        },
        "id": "oJxbr1Fm5uS6",
        "outputId": "3d126e9d-bd17-4067-e1be-4f632c3009a3"
      },
      "execution_count": 23,
      "outputs": [
        {
          "output_type": "stream",
          "name": "stdout",
          "text": [
            "tensor([[1.5398, 1.7987],\n",
            "        [1.4130, 1.7581]])\n"
          ]
        }
      ]
    },
    {
      "cell_type": "markdown",
      "source": [
        "#### $\\text{1.2.2 Substraction of Tesors}$"
      ],
      "metadata": {
        "id": "9TpG3H7459rz"
      }
    },
    {
      "cell_type": "code",
      "source": [
        "x = torch.rand(2,2) # rand create a random tensor\n",
        "y = torch.ones(2,2, dtype=torch.int16) # creates a tensor of 1's\n",
        "\n",
        "print(x)\n",
        "print(y)"
      ],
      "metadata": {
        "colab": {
          "base_uri": "https://localhost:8080/"
        },
        "id": "R2B493p06f2x",
        "outputId": "807fb949-28e6-4b58-d1ce-a1a8910d5fa1"
      },
      "execution_count": 24,
      "outputs": [
        {
          "output_type": "stream",
          "name": "stdout",
          "text": [
            "tensor([[0.4491, 0.9503],\n",
            "        [0.7902, 0.7317]])\n",
            "tensor([[1, 1],\n",
            "        [1, 1]], dtype=torch.int16)\n"
          ]
        }
      ]
    },
    {
      "cell_type": "code",
      "source": [
        "z = x-y\n",
        "print(z)"
      ],
      "metadata": {
        "colab": {
          "base_uri": "https://localhost:8080/"
        },
        "id": "dOvU9VCj2EKG",
        "outputId": "1b1c2218-80b9-405c-a560-3a5b56c268f7"
      },
      "execution_count": 25,
      "outputs": [
        {
          "output_type": "stream",
          "name": "stdout",
          "text": [
            "tensor([[-0.5509, -0.0497],\n",
            "        [-0.2098, -0.2683]])\n"
          ]
        }
      ]
    },
    {
      "cell_type": "code",
      "source": [
        "z = torch.sub(x,y)\n",
        "print(z)"
      ],
      "metadata": {
        "colab": {
          "base_uri": "https://localhost:8080/"
        },
        "id": "xAG5hWTs2EHE",
        "outputId": "3ffb95b3-25b9-491d-a43f-ff2aba987a4c"
      },
      "execution_count": 26,
      "outputs": [
        {
          "output_type": "stream",
          "name": "stdout",
          "text": [
            "tensor([[-0.5509, -0.0497],\n",
            "        [-0.2098, -0.2683]])\n"
          ]
        }
      ]
    },
    {
      "cell_type": "code",
      "source": [
        "x.sub_(y)\n",
        "print(x)"
      ],
      "metadata": {
        "colab": {
          "base_uri": "https://localhost:8080/"
        },
        "id": "MsD2uFmX2EER",
        "outputId": "1d64ee5c-c44f-407c-a388-ef6216bfbfb0"
      },
      "execution_count": 27,
      "outputs": [
        {
          "output_type": "stream",
          "name": "stdout",
          "text": [
            "tensor([[-0.5509, -0.0497],\n",
            "        [-0.2098, -0.2683]])\n"
          ]
        }
      ]
    },
    {
      "cell_type": "markdown",
      "source": [
        "### $\\text{1.2.3 ElementWise Product of Tesors}$"
      ],
      "metadata": {
        "id": "8MIdk3YQ7AGY"
      }
    },
    {
      "cell_type": "code",
      "source": [
        "x = torch.rand(2,2) # rand create a random tensor\n",
        "y = torch.ones(2,2, dtype=torch.int16) # creates a tensor of 1's\n",
        "\n",
        "print(x)\n",
        "print(y)"
      ],
      "metadata": {
        "colab": {
          "base_uri": "https://localhost:8080/"
        },
        "id": "rtbomWPC2EBa",
        "outputId": "f37caea7-9d61-43df-8829-d65c2b5c1d80"
      },
      "execution_count": 28,
      "outputs": [
        {
          "output_type": "stream",
          "name": "stdout",
          "text": [
            "tensor([[0.1618, 0.1219],\n",
            "        [0.6841, 0.3405]])\n",
            "tensor([[1, 1],\n",
            "        [1, 1]], dtype=torch.int16)\n"
          ]
        }
      ]
    },
    {
      "cell_type": "code",
      "source": [
        "z=x*y\n",
        "print(z)"
      ],
      "metadata": {
        "colab": {
          "base_uri": "https://localhost:8080/"
        },
        "id": "kFYlUoQx2D-f",
        "outputId": "396a6a89-ea06-4431-e5b8-e7c17b914a71"
      },
      "execution_count": 29,
      "outputs": [
        {
          "output_type": "stream",
          "name": "stdout",
          "text": [
            "tensor([[0.1618, 0.1219],\n",
            "        [0.6841, 0.3405]])\n"
          ]
        }
      ]
    },
    {
      "cell_type": "code",
      "source": [
        "z = torch.mul(x,y)\n",
        "print(z)"
      ],
      "metadata": {
        "colab": {
          "base_uri": "https://localhost:8080/"
        },
        "id": "pVzJqVCP2D7N",
        "outputId": "d0911daf-74dc-4c8f-e7ef-b76e60c3125b"
      },
      "execution_count": 30,
      "outputs": [
        {
          "output_type": "stream",
          "name": "stdout",
          "text": [
            "tensor([[0.1618, 0.1219],\n",
            "        [0.6841, 0.3405]])\n"
          ]
        }
      ]
    },
    {
      "cell_type": "code",
      "source": [
        "x.mul_(y)\n",
        "print(x)"
      ],
      "metadata": {
        "colab": {
          "base_uri": "https://localhost:8080/"
        },
        "id": "iS-wHqZK7dYE",
        "outputId": "8c6d3ee3-aaa8-4164-f7df-80b8e945e33b"
      },
      "execution_count": 31,
      "outputs": [
        {
          "output_type": "stream",
          "name": "stdout",
          "text": [
            "tensor([[0.1618, 0.1219],\n",
            "        [0.6841, 0.3405]])\n"
          ]
        }
      ]
    },
    {
      "cell_type": "markdown",
      "source": [
        "### 1.2.4 $\\text{ElementWise Divsion of Tensors}$"
      ],
      "metadata": {
        "id": "htDxkaak7n55"
      }
    },
    {
      "cell_type": "code",
      "source": [
        "x = torch.rand(2,2) # rand create a random tensor\n",
        "y = torch.ones(2,2, dtype=torch.int16) # creates a tensor of 1's\n",
        "\n",
        "print(x)\n",
        "print(y)"
      ],
      "metadata": {
        "colab": {
          "base_uri": "https://localhost:8080/"
        },
        "id": "WLcgTqE07nSR",
        "outputId": "a9b0984b-01a8-4c58-b73f-a2f9bffa8548"
      },
      "execution_count": 32,
      "outputs": [
        {
          "output_type": "stream",
          "name": "stdout",
          "text": [
            "tensor([[0.3684, 0.6408],\n",
            "        [0.4821, 0.8244]])\n",
            "tensor([[1, 1],\n",
            "        [1, 1]], dtype=torch.int16)\n"
          ]
        }
      ]
    },
    {
      "cell_type": "code",
      "source": [
        "z = x/y\n",
        "print(z)"
      ],
      "metadata": {
        "colab": {
          "base_uri": "https://localhost:8080/"
        },
        "id": "Y3pYxHDj78KB",
        "outputId": "f5dc6064-b5c5-4804-e514-a64b333070c8"
      },
      "execution_count": 33,
      "outputs": [
        {
          "output_type": "stream",
          "name": "stdout",
          "text": [
            "tensor([[0.3684, 0.6408],\n",
            "        [0.4821, 0.8244]])\n"
          ]
        }
      ]
    },
    {
      "cell_type": "code",
      "source": [
        "z = torch.div(x,y)\n",
        "print(z)"
      ],
      "metadata": {
        "colab": {
          "base_uri": "https://localhost:8080/"
        },
        "id": "GSWYlCOU7_42",
        "outputId": "c41fbc28-df73-4c65-da7b-5143e928aeed"
      },
      "execution_count": 34,
      "outputs": [
        {
          "output_type": "stream",
          "name": "stdout",
          "text": [
            "tensor([[0.3684, 0.6408],\n",
            "        [0.4821, 0.8244]])\n"
          ]
        }
      ]
    },
    {
      "cell_type": "markdown",
      "source": [
        "## $\\textbf{1.3 Slicing in Tensors}$"
      ],
      "metadata": {
        "id": "vEZeR8Vg8g0R"
      }
    },
    {
      "cell_type": "code",
      "source": [
        "x = torch.rand(5)\n",
        "print(x)"
      ],
      "metadata": {
        "colab": {
          "base_uri": "https://localhost:8080/"
        },
        "id": "bpMa-2729asp",
        "outputId": "af55383e-8df2-4229-e8fb-595270ebe826"
      },
      "execution_count": 35,
      "outputs": [
        {
          "output_type": "stream",
          "name": "stdout",
          "text": [
            "tensor([0.4432, 0.6897, 0.0678, 0.0505, 0.2598])\n"
          ]
        }
      ]
    },
    {
      "cell_type": "code",
      "source": [
        "x[2:]"
      ],
      "metadata": {
        "colab": {
          "base_uri": "https://localhost:8080/"
        },
        "id": "Y1MBXUfY9je8",
        "outputId": "62644cd0-89db-419f-ae89-2816579e09dc"
      },
      "execution_count": 36,
      "outputs": [
        {
          "output_type": "execute_result",
          "data": {
            "text/plain": [
              "tensor([0.0678, 0.0505, 0.2598])"
            ]
          },
          "metadata": {},
          "execution_count": 36
        }
      ]
    },
    {
      "cell_type": "code",
      "source": [
        "x[:4]"
      ],
      "metadata": {
        "colab": {
          "base_uri": "https://localhost:8080/"
        },
        "id": "tPKhJg9c9pTM",
        "outputId": "054e98de-37d8-4e03-99f8-8ae354744b48"
      },
      "execution_count": 37,
      "outputs": [
        {
          "output_type": "execute_result",
          "data": {
            "text/plain": [
              "tensor([0.4432, 0.6897, 0.0678, 0.0505])"
            ]
          },
          "metadata": {},
          "execution_count": 37
        }
      ]
    },
    {
      "cell_type": "markdown",
      "source": [
        "$\\textbf{Slicing a Multi-Dimensonal Tensors}$"
      ],
      "metadata": {
        "id": "aHCcwseO9zG8"
      }
    },
    {
      "cell_type": "code",
      "source": [
        "x = torch.rand(4,5)\n",
        "print(x)"
      ],
      "metadata": {
        "colab": {
          "base_uri": "https://localhost:8080/"
        },
        "id": "28dtuCKz-MZg",
        "outputId": "0eeece2c-267f-4473-8816-a873fd655415"
      },
      "execution_count": 38,
      "outputs": [
        {
          "output_type": "stream",
          "name": "stdout",
          "text": [
            "tensor([[0.4295, 0.2773, 0.6252, 0.3761, 0.0166],\n",
            "        [0.9451, 0.2275, 0.3956, 0.4408, 0.0978],\n",
            "        [0.6994, 0.6357, 0.2643, 0.2298, 0.2416],\n",
            "        [0.1883, 0.3213, 0.1317, 0.0937, 0.0543]])\n"
          ]
        }
      ]
    },
    {
      "cell_type": "code",
      "source": [
        "x[1:,:3]"
      ],
      "metadata": {
        "colab": {
          "base_uri": "https://localhost:8080/"
        },
        "id": "ntaQPJUD-MLQ",
        "outputId": "9365f58f-72c1-4faf-f96a-71c49afce88a"
      },
      "execution_count": 39,
      "outputs": [
        {
          "output_type": "execute_result",
          "data": {
            "text/plain": [
              "tensor([[0.9451, 0.2275, 0.3956],\n",
              "        [0.6994, 0.6357, 0.2643],\n",
              "        [0.1883, 0.3213, 0.1317]])"
            ]
          },
          "metadata": {},
          "execution_count": 39
        }
      ]
    },
    {
      "cell_type": "code",
      "source": [
        "x[2:4,3:5]"
      ],
      "metadata": {
        "colab": {
          "base_uri": "https://localhost:8080/"
        },
        "id": "kMOsts2_-eiB",
        "outputId": "704c8031-b385-451e-fc94-4041169e925c"
      },
      "execution_count": 40,
      "outputs": [
        {
          "output_type": "execute_result",
          "data": {
            "text/plain": [
              "tensor([[0.2298, 0.2416],\n",
              "        [0.0937, 0.0543]])"
            ]
          },
          "metadata": {},
          "execution_count": 40
        }
      ]
    },
    {
      "cell_type": "markdown",
      "source": [
        "#### $\\text{1.3.1 Indexing in tensor}$"
      ],
      "metadata": {
        "id": "TIKFay2L_Le7"
      }
    },
    {
      "cell_type": "code",
      "source": [
        "x[0,0]"
      ],
      "metadata": {
        "colab": {
          "base_uri": "https://localhost:8080/"
        },
        "id": "8tovTUqL-94x",
        "outputId": "104d34e9-d9c7-4a57-8fe0-9c680989718f"
      },
      "execution_count": 41,
      "outputs": [
        {
          "output_type": "execute_result",
          "data": {
            "text/plain": [
              "tensor(0.4295)"
            ]
          },
          "metadata": {},
          "execution_count": 41
        }
      ]
    },
    {
      "cell_type": "markdown",
      "source": [
        "$\\textbf{Getting the item at indexed element}$"
      ],
      "metadata": {
        "id": "Vk4Mv8eO_fN3"
      }
    },
    {
      "cell_type": "code",
      "source": [
        "x[0,0].item()"
      ],
      "metadata": {
        "colab": {
          "base_uri": "https://localhost:8080/"
        },
        "id": "sk1sWOd7_BpS",
        "outputId": "5e41bff7-f949-4d3c-9a6b-c603cc1ce1c3"
      },
      "execution_count": 42,
      "outputs": [
        {
          "output_type": "execute_result",
          "data": {
            "text/plain": [
              "0.4294775724411011"
            ]
          },
          "metadata": {},
          "execution_count": 42
        }
      ]
    },
    {
      "cell_type": "markdown",
      "source": [
        "## $\\textbf{1.4 Resize a Tensor}$"
      ],
      "metadata": {
        "id": "kHVh_q4R_w0D"
      }
    },
    {
      "cell_type": "code",
      "source": [
        "x = torch.rand(4,4)\n",
        "print(x)"
      ],
      "metadata": {
        "colab": {
          "base_uri": "https://localhost:8080/"
        },
        "id": "pqKC4K-7AObN",
        "outputId": "077623de-6762-4fa8-ac98-7e8c8aa78252"
      },
      "execution_count": 43,
      "outputs": [
        {
          "output_type": "stream",
          "name": "stdout",
          "text": [
            "tensor([[0.0877, 0.2904, 0.4533, 0.2837],\n",
            "        [0.6637, 0.1898, 0.6594, 0.3428],\n",
            "        [0.7833, 0.9994, 0.5927, 0.1450],\n",
            "        [0.0848, 0.2985, 0.0353, 0.8597]])\n"
          ]
        }
      ]
    },
    {
      "cell_type": "code",
      "source": [
        "y = x.view(16)\n",
        "y"
      ],
      "metadata": {
        "colab": {
          "base_uri": "https://localhost:8080/"
        },
        "id": "CXz9OyoQAT8T",
        "outputId": "3ab4b78d-3059-4e68-cb6d-c4ce371981d5"
      },
      "execution_count": 44,
      "outputs": [
        {
          "output_type": "execute_result",
          "data": {
            "text/plain": [
              "tensor([0.0877, 0.2904, 0.4533, 0.2837, 0.6637, 0.1898, 0.6594, 0.3428, 0.7833,\n",
              "        0.9994, 0.5927, 0.1450, 0.0848, 0.2985, 0.0353, 0.8597])"
            ]
          },
          "metadata": {},
          "execution_count": 44
        }
      ]
    },
    {
      "cell_type": "code",
      "source": [
        "y = x.view(-1,2) # -1 gives it the required value for reshaping\n",
        "print(y)"
      ],
      "metadata": {
        "colab": {
          "base_uri": "https://localhost:8080/"
        },
        "id": "Y40bPnALAYc3",
        "outputId": "fb8a0421-67b0-48be-ca31-044a21538db6"
      },
      "execution_count": 45,
      "outputs": [
        {
          "output_type": "stream",
          "name": "stdout",
          "text": [
            "tensor([[0.0877, 0.2904],\n",
            "        [0.4533, 0.2837],\n",
            "        [0.6637, 0.1898],\n",
            "        [0.6594, 0.3428],\n",
            "        [0.7833, 0.9994],\n",
            "        [0.5927, 0.1450],\n",
            "        [0.0848, 0.2985],\n",
            "        [0.0353, 0.8597]])\n"
          ]
        }
      ]
    },
    {
      "cell_type": "markdown",
      "source": [
        "## $\\textbf{1.5 Numpy <=> Tensor}$"
      ],
      "metadata": {
        "id": "TNZQO0E6AODp"
      }
    },
    {
      "cell_type": "markdown",
      "source": [
        "### $\\text{1.5.1 Numpy => Tensor}$"
      ],
      "metadata": {
        "id": "-3tMD3BYCnRt"
      }
    },
    {
      "cell_type": "code",
      "source": [
        "import torch\n",
        "import numpy as np"
      ],
      "metadata": {
        "id": "ubq4_aejC2TK"
      },
      "execution_count": 46,
      "outputs": []
    },
    {
      "cell_type": "code",
      "source": [
        "x = torch.rand(5)\n",
        "print(x)\n",
        "print(type(x))"
      ],
      "metadata": {
        "colab": {
          "base_uri": "https://localhost:8080/"
        },
        "id": "02ho-QQKA55O",
        "outputId": "d3747915-a96b-4307-9173-3d8a155fb31f"
      },
      "execution_count": 47,
      "outputs": [
        {
          "output_type": "stream",
          "name": "stdout",
          "text": [
            "tensor([0.7557, 0.0426, 0.3838, 0.7056, 0.4060])\n",
            "<class 'torch.Tensor'>\n"
          ]
        }
      ]
    },
    {
      "cell_type": "code",
      "source": [
        "p = x.numpy()\n",
        "print(p)\n",
        "print(type(p))"
      ],
      "metadata": {
        "colab": {
          "base_uri": "https://localhost:8080/"
        },
        "id": "DNYfKAjaA_bb",
        "outputId": "0e0660d6-7a76-4450-dc3b-4d5e3856de71"
      },
      "execution_count": 48,
      "outputs": [
        {
          "output_type": "stream",
          "name": "stdout",
          "text": [
            "[0.7557136  0.04258299 0.38379508 0.7055826  0.40597737]\n",
            "<class 'numpy.ndarray'>\n"
          ]
        }
      ]
    },
    {
      "cell_type": "markdown",
      "source": [
        "$\\textbf{Caution !}$\n",
        "\n",
        "$\\text{Since, our tensor is on CPU and not GPU, both object x and p shares same memory location, then changing one will change other.}$"
      ],
      "metadata": {
        "id": "tYsO2xn4BL8M"
      }
    },
    {
      "cell_type": "code",
      "source": [
        "x.add_(1)\n",
        "print(x)"
      ],
      "metadata": {
        "colab": {
          "base_uri": "https://localhost:8080/"
        },
        "id": "uMjf1wOSBs_D",
        "outputId": "a35dd6ab-0677-4789-8f7f-9c2bd689f9d7"
      },
      "execution_count": 49,
      "outputs": [
        {
          "output_type": "stream",
          "name": "stdout",
          "text": [
            "tensor([1.7557, 1.0426, 1.3838, 1.7056, 1.4060])\n"
          ]
        }
      ]
    },
    {
      "cell_type": "code",
      "source": [
        "print(p)"
      ],
      "metadata": {
        "colab": {
          "base_uri": "https://localhost:8080/"
        },
        "id": "z2ddac3tB9wy",
        "outputId": "97a4ffb8-1fd5-41f0-991b-b5102e3675aa"
      },
      "execution_count": 50,
      "outputs": [
        {
          "output_type": "stream",
          "name": "stdout",
          "text": [
            "[1.7557136 1.042583  1.383795  1.7055826 1.4059774]\n"
          ]
        }
      ]
    },
    {
      "cell_type": "markdown",
      "source": [
        "$\\text{Notice that: Changing 'x' also changed 'p' because they are sharing same memory location}$"
      ],
      "metadata": {
        "id": "FA-kFZg8CKqb"
      }
    },
    {
      "cell_type": "markdown",
      "source": [
        "### $\\textbf{1.5.2 Numpy <= Tensor}$"
      ],
      "metadata": {
        "id": "-ByageLwCstX"
      }
    },
    {
      "cell_type": "code",
      "source": [
        "a = np.random.randn(5)\n",
        "print(a)\n",
        "print(type(a))"
      ],
      "metadata": {
        "colab": {
          "base_uri": "https://localhost:8080/"
        },
        "id": "dR5dcl1IC973",
        "outputId": "a5166412-def6-463d-dbae-4bb3030a2155"
      },
      "execution_count": 51,
      "outputs": [
        {
          "output_type": "stream",
          "name": "stdout",
          "text": [
            "[ 1.72715392  1.60455755 -0.61586124 -0.21554612 -0.60673465]\n",
            "<class 'numpy.ndarray'>\n"
          ]
        }
      ]
    },
    {
      "cell_type": "code",
      "source": [
        "x = torch.from_numpy(a)\n",
        "print(x)\n",
        "print(type(x))"
      ],
      "metadata": {
        "colab": {
          "base_uri": "https://localhost:8080/"
        },
        "id": "d9UOA735DPw9",
        "outputId": "38e90dbc-6d83-44f9-b3cf-d0fe2d0a2999"
      },
      "execution_count": 52,
      "outputs": [
        {
          "output_type": "stream",
          "name": "stdout",
          "text": [
            "tensor([ 1.7272,  1.6046, -0.6159, -0.2155, -0.6067], dtype=torch.float64)\n",
            "<class 'torch.Tensor'>\n"
          ]
        }
      ]
    },
    {
      "cell_type": "markdown",
      "source": [
        "### Note: Changing dtype of a tensor"
      ],
      "metadata": {
        "id": "e5_5zsIgEHaE"
      }
    },
    {
      "cell_type": "code",
      "source": [
        "print(\"Before:\")\n",
        "print(x)\n",
        "x=x.to(dtype=torch.float16)\n",
        "print(\"\\nAfter:\")\n",
        "print(x)"
      ],
      "metadata": {
        "colab": {
          "base_uri": "https://localhost:8080/"
        },
        "id": "LWFsEXwcDv1-",
        "outputId": "c550f169-9161-431e-e505-c1992bf36f0d"
      },
      "execution_count": 53,
      "outputs": [
        {
          "output_type": "stream",
          "name": "stdout",
          "text": [
            "Before:\n",
            "tensor([ 1.7272,  1.6046, -0.6159, -0.2155, -0.6067], dtype=torch.float64)\n",
            "\n",
            "After:\n",
            "tensor([ 1.7275,  1.6045, -0.6157, -0.2156, -0.6069], dtype=torch.float16)\n"
          ]
        }
      ]
    },
    {
      "cell_type": "markdown",
      "source": [
        "## $\\textbf{1.6 Creating Tensors on CUDA GPU}$"
      ],
      "metadata": {
        "id": "08WPL6plErtL"
      }
    },
    {
      "cell_type": "code",
      "source": [
        "torch.cuda.is_available()"
      ],
      "metadata": {
        "colab": {
          "base_uri": "https://localhost:8080/"
        },
        "id": "2lFrbWLxErKx",
        "outputId": "1c503a05-363f-4185-c0f1-d4bc67baa6bc"
      },
      "execution_count": 54,
      "outputs": [
        {
          "output_type": "execute_result",
          "data": {
            "text/plain": [
              "True"
            ]
          },
          "metadata": {},
          "execution_count": 54
        }
      ]
    },
    {
      "cell_type": "code",
      "source": [
        "if torch.cuda.is_available():\n",
        "  device = torch.device(\"cuda\")\n",
        "  # create directly on GPU\n",
        "  x = torch.ones(5, device = device)\n",
        "  # create on cpu then move to GPU\n",
        "  y = torch.zeros(5)\n",
        "  y = y.to(device=device)\n",
        "  z = x+y\n",
        "  z.numpy() #this will give error coz numpy can handle only cpu tensor"
      ],
      "metadata": {
        "colab": {
          "base_uri": "https://localhost:8080/",
          "height": 183
        },
        "id": "ST1YeNh2FC9Y",
        "outputId": "61309fef-993c-4d40-c89c-9045dcd9f294"
      },
      "execution_count": 55,
      "outputs": [
        {
          "output_type": "error",
          "ename": "TypeError",
          "evalue": "can't convert cuda:0 device type tensor to numpy. Use Tensor.cpu() to copy the tensor to host memory first.",
          "traceback": [
            "\u001b[0;31m---------------------------------------------------------------------------\u001b[0m",
            "\u001b[0;31mTypeError\u001b[0m                                 Traceback (most recent call last)",
            "\u001b[0;32m<ipython-input-55-63d64a737fc0>\u001b[0m in \u001b[0;36m<cell line: 1>\u001b[0;34m()\u001b[0m\n\u001b[1;32m      7\u001b[0m   \u001b[0my\u001b[0m \u001b[0;34m=\u001b[0m \u001b[0my\u001b[0m\u001b[0;34m.\u001b[0m\u001b[0mto\u001b[0m\u001b[0;34m(\u001b[0m\u001b[0mdevice\u001b[0m\u001b[0;34m=\u001b[0m\u001b[0mdevice\u001b[0m\u001b[0;34m)\u001b[0m\u001b[0;34m\u001b[0m\u001b[0;34m\u001b[0m\u001b[0m\n\u001b[1;32m      8\u001b[0m   \u001b[0mz\u001b[0m \u001b[0;34m=\u001b[0m \u001b[0mx\u001b[0m\u001b[0;34m+\u001b[0m\u001b[0my\u001b[0m\u001b[0;34m\u001b[0m\u001b[0;34m\u001b[0m\u001b[0m\n\u001b[0;32m----> 9\u001b[0;31m   \u001b[0mz\u001b[0m\u001b[0;34m.\u001b[0m\u001b[0mnumpy\u001b[0m\u001b[0;34m(\u001b[0m\u001b[0;34m)\u001b[0m \u001b[0;31m#this will give error coz numpy can handle only cpu tensor\u001b[0m\u001b[0;34m\u001b[0m\u001b[0;34m\u001b[0m\u001b[0m\n\u001b[0m",
            "\u001b[0;31mTypeError\u001b[0m: can't convert cuda:0 device type tensor to numpy. Use Tensor.cpu() to copy the tensor to host memory first."
          ]
        }
      ]
    },
    {
      "cell_type": "code",
      "source": [
        "if torch.cuda.is_available():\n",
        "  device = torch.device(\"cuda\")\n",
        "\n",
        "  x = torch.ones(5, device = device)\n",
        "  y = torch.zeros(5)\n",
        "  y = y.to(device=device)\n",
        "\n",
        "  z = x+y\n",
        "  print(z)\n",
        "  z = z.to(device=torch.device(\"cpu\"))\n",
        "  print(z)\n",
        "  z = z.numpy()\n",
        "  print(z)"
      ],
      "metadata": {
        "colab": {
          "base_uri": "https://localhost:8080/"
        },
        "id": "IJU61d4AGZ7d",
        "outputId": "b57e1be2-069c-4f41-f41a-a2874f173ab1"
      },
      "execution_count": 56,
      "outputs": [
        {
          "output_type": "stream",
          "name": "stdout",
          "text": [
            "tensor([1., 1., 1., 1., 1.], device='cuda:0')\n",
            "tensor([1., 1., 1., 1., 1.])\n",
            "[1. 1. 1. 1. 1.]\n"
          ]
        }
      ]
    }
  ]
}